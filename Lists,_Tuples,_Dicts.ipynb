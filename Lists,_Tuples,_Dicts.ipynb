{
  "cells": [
    {
      "cell_type": "markdown",
      "metadata": {
        "id": "view-in-github",
        "colab_type": "text"
      },
      "source": [
        "<a href=\"https://colab.research.google.com/github/jelly-decoder28/compbioworkshop/blob/main/Lists%2C_Tuples%2C_Dicts.ipynb\" target=\"_parent\"><img src=\"https://colab.research.google.com/assets/colab-badge.svg\" alt=\"Open In Colab\"/></a>"
      ]
    },
    {
      "cell_type": "markdown",
      "metadata": {
        "id": "yg132mP3h9Mp"
      },
      "source": [
        "## Lists and loops"
      ]
    },
    {
      "cell_type": "code",
      "execution_count": null,
      "metadata": {
        "id": "UwK19OlLjdr7",
        "colab": {
          "base_uri": "https://localhost:8080/"
        },
        "outputId": "4cb0b6a7-89f0-402b-a6d1-60cec524b174"
      },
      "outputs": [
        {
          "output_type": "stream",
          "name": "stdout",
          "text": [
            "['Monday', 'Tuesday', 'Wednesday', 'Thursday', 'Friday']\n",
            "['Friday', 'Monday', 'Thursday', 'Tuesday', 'Wednesday']\n"
          ]
        }
      ],
      "source": [
        "weekdays = ['Monday', 'Tuesday', 'Wednesday', 'Thursday', 'Friday']\n",
        "print(weekdays)\n",
        "\n",
        "# try it out: sort weekdays alphabetically, then print the sorted list\n",
        "# Remember that the sort method works \"in place\"\n",
        "\n",
        "weekdays.sort()\n",
        "print(weekdays)"
      ]
    },
    {
      "cell_type": "code",
      "execution_count": null,
      "metadata": {
        "id": "jezeEcy2n4Sr",
        "colab": {
          "base_uri": "https://localhost:8080/"
        },
        "outputId": "9eb311b3-a04c-431d-e29c-943847dc69f4"
      },
      "outputs": [
        {
          "output_type": "stream",
          "name": "stdout",
          "text": [
            "Friday\n",
            "Monday\n",
            "Thursday\n",
            "Tuesday\n",
            "Wednesday\n"
          ]
        }
      ],
      "source": [
        "for day in weekdays:\n",
        "    print(day)"
      ]
    },
    {
      "cell_type": "code",
      "execution_count": null,
      "metadata": {
        "id": "-yOjWLnGoX0U",
        "colab": {
          "base_uri": "https://localhost:8080/"
        },
        "outputId": "273821b2-bb29-4747-a526-b466d0d3fe7f"
      },
      "outputs": [
        {
          "output_type": "stream",
          "name": "stdout",
          "text": [
            "25\n",
            "81\n",
            "5.289999999999999\n",
            "196\n",
            "9\n",
            "4\n",
            "100\n"
          ]
        }
      ],
      "source": [
        "num_list = [5, 9, 2.3, 14, 3, 2, 10]\n",
        "\n",
        "# try it out: use a for loop to print the squared value of each number in num_list\n",
        "\n",
        "for i in num_list:\n",
        "    print(i**2)"
      ]
    },
    {
      "cell_type": "code",
      "execution_count": null,
      "metadata": {
        "id": "Oqxf9jWzqpWV"
      },
      "outputs": [],
      "source": [
        "# Run this cell: notice that there's no output because we're just defining the function\n",
        "\n",
        "def list_mean(input_list):\n",
        "    # the code below will run each time we use this function\n",
        "    return sum(input_list) / len(input_list)"
      ]
    },
    {
      "cell_type": "code",
      "execution_count": null,
      "metadata": {
        "id": "3ljCenURsEL_",
        "colab": {
          "base_uri": "https://localhost:8080/"
        },
        "outputId": "1f57677e-7195-4d26-beca-4a30859028d9"
      },
      "outputs": [
        {
          "output_type": "stream",
          "name": "stdout",
          "text": [
            "7\n",
            "4.714285714285714\n"
          ]
        }
      ],
      "source": [
        "# try it out: use list_mean on a list of numbers of your own choosing\n",
        "\n",
        "my_numbers = [1, 1, 2, 3, 5, 8, 13]\n",
        "\n",
        "print(len(my_numbers))\n",
        "print(list_mean(my_numbers))"
      ]
    },
    {
      "cell_type": "code",
      "execution_count": null,
      "metadata": {
        "id": "dccAl4msuz5A"
      },
      "outputs": [],
      "source": [
        "# We're re-defining list_mean now\n",
        "\n",
        "def list_mean(input_list):\n",
        "    # the code below will run each time we use this function\n",
        "    print(\"The input list was:\", input_list)\n",
        "    return sum(input_list)/len(input_list)"
      ]
    },
    {
      "cell_type": "code",
      "execution_count": null,
      "metadata": {
        "id": "TPpUZBG9vPS7",
        "colab": {
          "base_uri": "https://localhost:8080/"
        },
        "outputId": "35441ef5-4824-4d0c-e6a3-36e0b362c6e9"
      },
      "outputs": [
        {
          "output_type": "stream",
          "name": "stdout",
          "text": [
            "The input list was: [1, 4, 10, 2]\n",
            "4.25\n",
            "The input list was: [4, 5, 2, 1]\n",
            "3.0\n"
          ]
        }
      ],
      "source": [
        "list_one = [1, 4, 10, 2]\n",
        "list_two = [4, 5, 2, 1]\n",
        "\n",
        "# try it out: add the averages of list_one and list_two\n",
        "print(list_mean(list_one))\n",
        "print(list_mean(list_two))"
      ]
    },
    {
      "cell_type": "code",
      "execution_count": null,
      "metadata": {
        "id": "RW8DEtI64Tv-",
        "colab": {
          "base_uri": "https://localhost:8080/"
        },
        "outputId": "47dcee93-f3e8-497f-ea67-55cfba2a0192"
      },
      "outputs": [
        {
          "output_type": "stream",
          "name": "stdout",
          "text": [
            "('a', 'b', 'c')\n",
            "(5, 9, 2.3, 14, 3, 2, 10)\n",
            "c\n",
            "9\n"
          ]
        }
      ],
      "source": [
        "string_tuple = ('a', 'b', 'c')  # a tuple of strings\n",
        "num_tuple = (5, 9, 2.3, 14, 3, 2, 10)  # a tuple of numerics\n",
        "\n",
        "print(string_tuple)\n",
        "print(num_tuple)\n",
        "\n",
        "# get the third item in the string_tuple\n",
        "print(string_tuple[2])\n",
        "\n",
        "# or the second item in the num_tuple (remember, python indexing begins with 0!)\n",
        "print(num_tuple[1])"
      ]
    },
    {
      "cell_type": "code",
      "source": [
        "# lists ['a', 'b', 'c', 'd']\n",
        "# tuple ('a', 'b', 'c', 'd')\n",
        "#              ^\n",
        "#         0    1    2    3\n",
        "#             [1]"
      ],
      "metadata": {
        "id": "FhbGvZVl36hE"
      },
      "execution_count": null,
      "outputs": []
    },
    {
      "cell_type": "code",
      "execution_count": null,
      "metadata": {
        "id": "DA5KRyof5vWF"
      },
      "outputs": [],
      "source": [
        "def len_and_mean(input_list):\n",
        "    list_length = len(input_list)\n",
        "    list_average = sum(input_list)/len(input_list)\n",
        "\n",
        "    # You can return multiple values by separating them with a comma\n",
        "    return list_length, list_average\n",
        "\n",
        "# len_and_mean(some_list) --> (5, 2.3)"
      ]
    },
    {
      "cell_type": "code",
      "execution_count": null,
      "metadata": {
        "id": "a1EUGt4j6BAT",
        "colab": {
          "base_uri": "https://localhost:8080/"
        },
        "outputId": "559ff86a-c9ef-4a4d-becf-f007080f3e21"
      },
      "outputs": [
        {
          "output_type": "execute_result",
          "data": {
            "text/plain": [
              "(5, 5.9)"
            ]
          },
          "metadata": {},
          "execution_count": 15
        }
      ],
      "source": [
        "# try it out: use len_and_mean on a list of numerics of your own choosing\n",
        "\n",
        "my_numbers = [2, 4, 5.5, 8, 10]\n",
        "len_and_mean(my_numbers)"
      ]
    },
    {
      "cell_type": "code",
      "execution_count": null,
      "metadata": {
        "id": "lfJvqcK06_7Q",
        "colab": {
          "base_uri": "https://localhost:8080/"
        },
        "outputId": "488e650b-138a-40cb-c781-9321f886c219"
      },
      "outputs": [
        {
          "output_type": "execute_result",
          "data": {
            "text/plain": [
              "{-3, 0, 1, 2, 5, 6, 9, 11}"
            ]
          },
          "metadata": {},
          "execution_count": 16
        }
      ],
      "source": [
        "repeat_list = [1, 5, 2, 11, 2, 6, 6, 9, 1, 2, 0, 6, 11, 2, -3, 1]\n",
        "\n",
        "# What if we just want unique values?\n",
        "set(repeat_list)"
      ]
    },
    {
      "cell_type": "code",
      "source": [
        "# count number of unique elements in repeat_list\n",
        "print(len(repeat_list))\n",
        "print(len(set(repeat_list)))"
      ],
      "metadata": {
        "colab": {
          "base_uri": "https://localhost:8080/"
        },
        "id": "Cod8cDlk6dO2",
        "outputId": "4c213438-6aec-4dd1-b9b3-52e50daea288"
      },
      "execution_count": null,
      "outputs": [
        {
          "output_type": "stream",
          "name": "stdout",
          "text": [
            "16\n",
            "8\n"
          ]
        }
      ]
    },
    {
      "cell_type": "code",
      "source": [
        "# list   ['a', 'b', 'c']\n",
        "# tuple  ('a', 'b', 'c')\n",
        "# inxex    0    1    2\n",
        "\n",
        "# dict  {'a': 1, 'b': 2}\n",
        "#        ['a'] --> 1"
      ],
      "metadata": {
        "id": "VJSvx-oF6-nL"
      },
      "execution_count": null,
      "outputs": []
    },
    {
      "cell_type": "code",
      "execution_count": null,
      "metadata": {
        "id": "ZElSxdvgIuLl",
        "colab": {
          "base_uri": "https://localhost:8080/"
        },
        "outputId": "17da655a-b555-431a-8f6e-62be0743aa42"
      },
      "outputs": [
        {
          "output_type": "execute_result",
          "data": {
            "text/plain": [
              "{'08/05': 'Monday',\n",
              " '08/06': 'Tuesday',\n",
              " '08/07': 'Wednesday',\n",
              " '08/08': 'Thursday',\n",
              " '08/09': 'Friday',\n",
              " '08/10': 'Saturday',\n",
              " '08/11': 'Sunday',\n",
              " '08/12': 'Monday'}"
            ]
          },
          "metadata": {},
          "execution_count": 21
        }
      ],
      "source": [
        "# Dictionaries are defined in key-value pairs\n",
        "# Below, our dates are keys and the weekday is the value\n",
        "\n",
        "days_and_dates = {\n",
        "    '08/05': 'Monday',\n",
        "    '08/06': 'Tuesday',\n",
        "    '08/07': 'Wednesday',\n",
        "    '08/08': 'Thursday',\n",
        "    '08/09': 'Friday',\n",
        "    '08/10': 'Saturday',\n",
        "    '08/11': 'Sunday',\n",
        "    '08/12': 'Monday'\n",
        "}\n",
        "\n",
        "days_and_dates"
      ]
    },
    {
      "cell_type": "code",
      "execution_count": null,
      "metadata": {
        "id": "0Bo9XXZoauQb",
        "colab": {
          "base_uri": "https://localhost:8080/",
          "height": 36
        },
        "outputId": "9433be76-302c-44ab-e27d-3eb989b4f023"
      },
      "outputs": [
        {
          "output_type": "execute_result",
          "data": {
            "text/plain": [
              "'Tuesday'"
            ],
            "application/vnd.google.colaboratory.intrinsic+json": {
              "type": "string"
            }
          },
          "metadata": {},
          "execution_count": 22
        }
      ],
      "source": [
        "# This will return the value associated with the key '08/06'.\n",
        "days_and_dates['08/06']"
      ]
    },
    {
      "cell_type": "code",
      "execution_count": null,
      "metadata": {
        "id": "zk9ogUmwMuFB",
        "colab": {
          "base_uri": "https://localhost:8080/"
        },
        "outputId": "08878fe4-e210-4215-d2f6-b2dbd8668079"
      },
      "outputs": [
        {
          "output_type": "stream",
          "name": "stdout",
          "text": [
            "{'01/13': 'Monday', '01/14': 'Tuesday', '01/15': 'Wednesday', '01/16': 'Thursday', '01/17': 'Friday'}\n"
          ]
        }
      ],
      "source": [
        "bootcamp_dates = ['01/13', '01/14', '01/15', '01/16', '01/17']\n",
        "weekdays = ['Monday', 'Tuesday', 'Wednesday', 'Thursday', 'Friday']\n",
        "\n",
        "# Use bootcamp_dates as the list of keys, and weekdays as the list of values\n",
        "bootcamp_dict = dict(zip(bootcamp_dates, weekdays))\n",
        "print(bootcamp_dict)"
      ]
    },
    {
      "cell_type": "code",
      "source": [
        "alphabet = \"abcdefghijklmnopqrstuvwxyz\"\n",
        "alphabet = list(alphabet)\n",
        "\n",
        "# indexes = range(start, stop, step)\n",
        "indexes = range(0, 26, 1)\n",
        "\n",
        "alphabet_dict = dict(zip(alphabet, indexes))\n",
        "alphabet_dict"
      ],
      "metadata": {
        "colab": {
          "base_uri": "https://localhost:8080/"
        },
        "id": "Gw_Jtl_88ptc",
        "outputId": "8121af9d-b8fe-4497-ec52-a5f571090c9f"
      },
      "execution_count": null,
      "outputs": [
        {
          "output_type": "execute_result",
          "data": {
            "text/plain": [
              "{'a': 0,\n",
              " 'b': 1,\n",
              " 'c': 2,\n",
              " 'd': 3,\n",
              " 'e': 4,\n",
              " 'f': 5,\n",
              " 'g': 6,\n",
              " 'h': 7,\n",
              " 'i': 8,\n",
              " 'j': 9,\n",
              " 'k': 10,\n",
              " 'l': 11,\n",
              " 'm': 12,\n",
              " 'n': 13,\n",
              " 'o': 14,\n",
              " 'p': 15,\n",
              " 'q': 16,\n",
              " 'r': 17,\n",
              " 's': 18,\n",
              " 't': 19,\n",
              " 'u': 20,\n",
              " 'v': 21,\n",
              " 'w': 22,\n",
              " 'x': 23,\n",
              " 'y': 24,\n",
              " 'z': 25}"
            ]
          },
          "metadata": {},
          "execution_count": 27
        }
      ]
    },
    {
      "cell_type": "code",
      "execution_count": null,
      "metadata": {
        "id": "HD1_IEEy5pBO",
        "colab": {
          "base_uri": "https://localhost:8080/"
        },
        "outputId": "462e1dbf-ec13-4491-89e8-ca81c8c3737a"
      },
      "outputs": [
        {
          "output_type": "stream",
          "name": "stdout",
          "text": [
            "1.26.4\n"
          ]
        }
      ],
      "source": [
        "# Make sure to run this cell!\n",
        "import numpy as np\n",
        "\n",
        "# check that the package was installed by printing the version\n",
        "print(np.__version__)"
      ]
    },
    {
      "cell_type": "code",
      "execution_count": null,
      "metadata": {
        "id": "-ACn1D49-ZFN",
        "colab": {
          "base_uri": "https://localhost:8080/"
        },
        "outputId": "789b7595-d849-433f-91ce-951265e59b63"
      },
      "outputs": [
        {
          "output_type": "stream",
          "name": "stdout",
          "text": [
            "Mean: 6.471428571428571\n",
            "Median: 5.0\n"
          ]
        }
      ],
      "source": [
        "num_list = [5, 9, 2.3, 14, 3, 2, 10]\n",
        "\n",
        "print('Mean:', np.mean(num_list))\n",
        "print('Median:', np.median(num_list))"
      ]
    },
    {
      "cell_type": "code",
      "execution_count": null,
      "metadata": {
        "id": "Tbq-aTy6K24C"
      },
      "outputs": [],
      "source": [
        "# try it out:\n",
        "\n",
        "# Write a function called summarize_list that will take a list of numerics\n",
        "# and return a tuple with:\n",
        "# 1) the length of the list\n",
        "# 2) the median of the list, using np.median\n",
        "# 3) the mean of the list, using np.mean\n",
        "\n",
        "def summarize_list(my_list):\n",
        "    list_len = len(my_list)\n",
        "    list_median = np.median(my_list)\n",
        "    list_mean = np.mean(my_list)\n",
        "    return list_len, list_median, list_mean"
      ]
    },
    {
      "cell_type": "code",
      "execution_count": null,
      "metadata": {
        "id": "BoVPf2CCJkUa",
        "colab": {
          "base_uri": "https://localhost:8080/"
        },
        "outputId": "ed59d235-d3fa-4184-8105-76048bcc2988"
      },
      "outputs": [
        {
          "output_type": "execute_result",
          "data": {
            "text/plain": [
              "5.0"
            ]
          },
          "metadata": {},
          "execution_count": 35
        }
      ],
      "source": [
        "# test the function here\n",
        "x = summarize_list(num_list)\n",
        "x[1]\n"
      ]
    },
    {
      "cell_type": "code",
      "source": [
        "range(0, 10, 2)"
      ],
      "metadata": {
        "colab": {
          "base_uri": "https://localhost:8080/"
        },
        "id": "iD5-6Ed-AXj6",
        "outputId": "6d05980c-1d7b-431e-c08d-95ef73b86155"
      },
      "execution_count": null,
      "outputs": [
        {
          "output_type": "execute_result",
          "data": {
            "text/plain": [
              "range(0, 10, 2)"
            ]
          },
          "metadata": {},
          "execution_count": 38
        }
      ]
    },
    {
      "cell_type": "code",
      "execution_count": null,
      "metadata": {
        "id": "BFzTjHAh2hZo",
        "colab": {
          "base_uri": "https://localhost:8080/"
        },
        "outputId": "afdc8e71-6484-43e9-99ad-ef4d2929fa78"
      },
      "outputs": [
        {
          "output_type": "stream",
          "name": "stdout",
          "text": [
            "[1, 5, 2, 3, 3, 5, 8, 10, 7, 8]\n",
            "[ 1  2  3  5  7  8 10]\n"
          ]
        }
      ],
      "source": [
        "# For example\n",
        "mixed_ints = [1, 5, 2, 3, 3, 5, 8, 10, 7, 8]\n",
        "print(mixed_ints)\n",
        "print(np.unique(mixed_ints))"
      ]
    },
    {
      "cell_type": "markdown",
      "metadata": {
        "id": "II8pRVYdhoER"
      },
      "source": [
        "Let's quickly look at the documentation for `np.unique()`. To learn more about a function and its inputs  and outputs within Google Colab, you can simply type `?` followed by the name of the function.\n",
        "\n"
      ]
    },
    {
      "cell_type": "code",
      "execution_count": null,
      "metadata": {
        "id": "bwpWG5fIhgyi"
      },
      "outputs": [],
      "source": [
        "?np.unique"
      ]
    },
    {
      "cell_type": "code",
      "execution_count": null,
      "metadata": {
        "id": "6xuzIRa63lxp",
        "colab": {
          "base_uri": "https://localhost:8080/"
        },
        "outputId": "9984caca-fb02-4c6e-81f5-dce3b9b9b4e7"
      },
      "outputs": [
        {
          "output_type": "execute_result",
          "data": {
            "text/plain": [
              "(array([ 1,  2,  3,  5,  7,  8, 10]), array([1, 1, 2, 2, 1, 2, 1]))"
            ]
          },
          "metadata": {},
          "execution_count": 41
        }
      ],
      "source": [
        "# Use np.unique on mixed_ints, setting return_counts = True\n",
        "np.unique(mixed_ints, return_counts=True)"
      ]
    },
    {
      "cell_type": "code",
      "execution_count": null,
      "metadata": {
        "id": "ufCGh1ew7D4z",
        "colab": {
          "base_uri": "https://localhost:8080/"
        },
        "outputId": "3443f2ec-4cc0-446c-e845-262931e25b32"
      },
      "outputs": [
        {
          "output_type": "stream",
          "name": "stdout",
          "text": [
            "['Monday', 'Tuesday', 'Wednesday', 'Thursday', 'Friday']\n"
          ]
        },
        {
          "output_type": "execute_result",
          "data": {
            "text/plain": [
              "array(['Monday', 'Tuesday', 'Wednesday', 'Thursday', 'Friday'],\n",
              "      dtype='<U9')"
            ]
          },
          "metadata": {},
          "execution_count": 42
        }
      ],
      "source": [
        "# creating an array from a list\n",
        "weekdays = ['Monday', 'Tuesday', 'Wednesday', 'Thursday', 'Friday']\n",
        "print(weekdays)\n",
        "weekday_array = np.array(weekdays)\n",
        "\n",
        "weekday_array"
      ]
    },
    {
      "cell_type": "code",
      "execution_count": null,
      "metadata": {
        "id": "vD3EgBCinclw",
        "colab": {
          "base_uri": "https://localhost:8080/"
        },
        "outputId": "4db2b87b-9d5a-4eed-8ddc-038c928d49f4"
      },
      "outputs": [
        {
          "output_type": "stream",
          "name": "stdout",
          "text": [
            "Length: 5\n",
            "Tuesday\n",
            "Monday is 6 characters long.\n",
            "Tuesday is 7 characters long.\n",
            "Wednesday is 9 characters long.\n",
            "Thursday is 8 characters long.\n",
            "Friday is 6 characters long.\n"
          ]
        }
      ],
      "source": [
        "# Get the length of the array\n",
        "print('Length:', len(weekday_array))\n",
        "# Retrieve Tuesday by index\n",
        "print(weekday_array[1])\n",
        "# Iterate over the array\n",
        "for day in weekday_array:\n",
        "    print(day, 'is', len(day), 'characters long.')"
      ]
    },
    {
      "cell_type": "code",
      "execution_count": null,
      "metadata": {
        "id": "sRTAPeqFYWPf",
        "colab": {
          "base_uri": "https://localhost:8080/"
        },
        "outputId": "736d4791-a9e7-485d-d41c-ad070e6ef852"
      },
      "outputs": [
        {
          "output_type": "stream",
          "name": "stdout",
          "text": [
            "Starting array:\n",
            " [1 1 1 1 1]\n"
          ]
        }
      ],
      "source": [
        "one_by_five = np.array([1, 1, 1, 1, 1])\n",
        "print('Starting array:\\n', one_by_five)"
      ]
    },
    {
      "cell_type": "code",
      "execution_count": null,
      "metadata": {
        "id": "5HnQVCu-LgJK",
        "colab": {
          "base_uri": "https://localhost:8080/"
        },
        "outputId": "c0302134-50ec-467c-9370-24823e4362be"
      },
      "outputs": [
        {
          "output_type": "stream",
          "name": "stdout",
          "text": [
            "Nested list: [[1, 1, 1, 1, 1], [1, 1, 1, 1, 1]] \n",
            "\n",
            "2 x 5 array:\n",
            " [[1 1 1 1 1]\n",
            " [1 1 1 1 1]] \n",
            "\n",
            "5 x 5 array:\n",
            " [[1 1 1 1 1]\n",
            " [1 1 1 1 1]\n",
            " [1 1 1 1 1]\n",
            " [1 1 1 1 1]\n",
            " [1 1 1 1 1]]\n"
          ]
        }
      ],
      "source": [
        "# As a nested list: two sub-lists of length 5\n",
        "print('Nested list:', [[1, 1, 1, 1, 1], [1, 1, 1, 1, 1]], '\\n')\n",
        "\n",
        "two_by_five = np.array([[1, 1, 1, 1, 1],\n",
        "                        [1, 1, 1, 1, 1]])\n",
        "print('2 x 5 array:\\n', two_by_five, '\\n')\n",
        "\n",
        "# As a nested list: five sub-lists of length 5\n",
        "five_by_five = np.array([[1, 1, 1, 1, 1],\n",
        "                         [1, 1, 1, 1, 1],\n",
        "                         [1, 1, 1, 1, 1],\n",
        "                         [1, 1, 1, 1, 1],\n",
        "                         [1, 1, 1, 1, 1]])\n",
        "print('5 x 5 array:\\n', five_by_five)"
      ]
    },
    {
      "cell_type": "code",
      "execution_count": null,
      "metadata": {
        "id": "AOcosMna66zh",
        "colab": {
          "base_uri": "https://localhost:8080/"
        },
        "outputId": "ba811d8e-f2c0-474f-cb3d-1ba7175b00a0"
      },
      "outputs": [
        {
          "output_type": "stream",
          "name": "stdout",
          "text": [
            "[[0.25 0.25 0.25 0.25 0.25]\n",
            " [0.25 0.25 0.25 0.25 0.25]\n",
            " [0.25 0.25 0.25 0.25 0.25]\n",
            " [0.25 0.25 0.25 0.25 0.25]\n",
            " [0.25 0.25 0.25 0.25 0.25]]\n"
          ]
        }
      ],
      "source": [
        "five_by_five_array = np.array(\n",
        "    [\n",
        "        [1, 1, 1, 1, 1],\n",
        "        [1, 1, 1, 1, 1],\n",
        "        [1, 1, 1, 1, 1],\n",
        "        [1, 1, 1, 1, 1],\n",
        "        [1, 1, 1, 1, 1]\n",
        "    ]\n",
        ")\n",
        "\n",
        "print((five_by_five_array / 2)**2)"
      ]
    },
    {
      "cell_type": "code",
      "source": [
        "(1 / 2) ** 2"
      ],
      "metadata": {
        "colab": {
          "base_uri": "https://localhost:8080/"
        },
        "id": "jyIjNEmvDXJn",
        "outputId": "742c9d3f-8c53-46dc-fed0-f848e633e046"
      },
      "execution_count": null,
      "outputs": [
        {
          "output_type": "execute_result",
          "data": {
            "text/plain": [
              "0.25"
            ]
          },
          "metadata": {},
          "execution_count": 47
        }
      ]
    },
    {
      "cell_type": "code",
      "execution_count": null,
      "metadata": {
        "id": "86PUWOLkmo1S",
        "colab": {
          "base_uri": "https://localhost:8080/"
        },
        "outputId": "10d6e951-b28f-4c36-e723-e9e9b329a51f"
      },
      "outputs": [
        {
          "output_type": "execute_result",
          "data": {
            "text/plain": [
              "[[0.25, 0.25, 0.25, 0.25, 0.25],\n",
              " [0.25, 0.25, 0.25, 0.25, 0.25],\n",
              " [0.25, 0.25, 0.25, 0.25, 0.25],\n",
              " [0.25, 0.25, 0.25, 0.25, 0.25],\n",
              " [0.25, 0.25, 0.25, 0.25, 0.25]]"
            ]
          },
          "metadata": {},
          "execution_count": 48
        }
      ],
      "source": [
        "five_by_five_list = [[1, 1, 1, 1, 1],\n",
        "                     [1, 1, 1, 1, 1],\n",
        "                     [1, 1, 1, 1, 1],\n",
        "                     [1, 1, 1, 1, 1],\n",
        "                     [1, 1, 1, 1, 1]]\n",
        "\n",
        "#(five_by_five_list/2)**2\n",
        "def nested_half_square(input_nested_list):\n",
        "    # a function that does the same thing as above for a nested list\n",
        "    # we index each sublist, then each item in the list, and then perform our operation\n",
        "\n",
        "    for sublist in input_nested_list:\n",
        "        for index in range(len(sublist)):\n",
        "            # here, the range object is similar to a list or tuple of integers ranging from 0 to 4\n",
        "            sublist[index] = (sublist[index]/2)**2\n",
        "    return input_nested_list\n",
        "\n",
        "nested_half_square(five_by_five_list)"
      ]
    },
    {
      "cell_type": "code",
      "source": [
        "weekdays = [\"Monday\", \"Tuesday\"]\n",
        "weekends = [\"Sautrday\", \"Sunday\"]\n",
        "\n",
        "week = [weekdays, weekends]\n",
        "np.array(week)"
      ],
      "metadata": {
        "colab": {
          "base_uri": "https://localhost:8080/"
        },
        "id": "TfbFxxc9Enp_",
        "outputId": "b955b8a8-a0c7-4825-c578-5e0ad475e784"
      },
      "execution_count": null,
      "outputs": [
        {
          "output_type": "execute_result",
          "data": {
            "text/plain": [
              "array([['Monday', 'Tuesday'],\n",
              "       ['Sautrday', 'Sunday']], dtype='<U8')"
            ]
          },
          "metadata": {},
          "execution_count": 51
        }
      ]
    },
    {
      "cell_type": "code",
      "execution_count": null,
      "metadata": {
        "id": "kBarYTdipogl"
      },
      "outputs": [],
      "source": [
        "# try it out:\n",
        "# use np.array on a mixed list of:\n",
        "# 1) integers and strings\n",
        "# 2) integers and floats\n",
        "# 3) floats and strings\n",
        "# 4) integers, floats, and strings\n",
        "l1 = [1, 2, 3, 'four']\n",
        "l2 = [1, 2, 3.6, 4.3]\n",
        "l3 = [1.0, 2.0, 3.0, 'four']\n",
        "l4 = [1, 2.2, 3.3, 'four']\n"
      ]
    },
    {
      "cell_type": "code",
      "source": [
        "print(np.array(l1))\n",
        "print(np.array(l2))\n",
        "print(np.array(l3))\n",
        "print(np.array(l4))"
      ],
      "metadata": {
        "colab": {
          "base_uri": "https://localhost:8080/"
        },
        "id": "1PyL7wZPFQQR",
        "outputId": "37732c3a-e807-47fc-9555-c9c19fb5c20a"
      },
      "execution_count": null,
      "outputs": [
        {
          "output_type": "stream",
          "name": "stdout",
          "text": [
            "['1' '2' '3' 'four']\n",
            "[1.  2.  3.6 4.3]\n",
            "['1.0' '2.0' '3.0' 'four']\n",
            "['1' '2.2' '3.3' 'four']\n"
          ]
        }
      ]
    },
    {
      "cell_type": "code",
      "execution_count": null,
      "metadata": {
        "id": "PNjv4PCuQoju"
      },
      "outputs": [],
      "source": [
        "# Below, just write five_by and then pause. You can also press control+space to trigger auto-complete\n",
        "five_by_five\n",
        "five_by_five"
      ]
    },
    {
      "cell_type": "code",
      "execution_count": null,
      "metadata": {
        "id": "CNr-d93IJxf8",
        "colab": {
          "base_uri": "https://localhost:8080/"
        },
        "outputId": "be2a00f5-1d6f-44c5-b4ee-096f3c273401"
      },
      "outputs": [
        {
          "output_type": "stream",
          "name": "stdout",
          "text": [
            "Array:\n",
            " [[1 1 1 1 1]\n",
            " [1 1 1 1 1]\n",
            " [1 1 1 1 1]\n",
            " [1 1 1 1 1]\n",
            " [1 1 1 1 1]]\n",
            "5\n"
          ]
        }
      ],
      "source": [
        "print('Array:\\n', five_by_five)\n",
        "\n",
        "print(len(five_by_five))  # this only gives us the number of rows"
      ]
    },
    {
      "cell_type": "code",
      "execution_count": null,
      "metadata": {
        "id": "swf3Xy9yLP54",
        "colab": {
          "base_uri": "https://localhost:8080/"
        },
        "outputId": "494157e1-93c5-4c91-f22d-1e82376a10d8"
      },
      "outputs": [
        {
          "output_type": "stream",
          "name": "stdout",
          "text": [
            "Array:\n",
            " [[1 1 1 1 1]\n",
            " [1 1 1 1 1]\n",
            " [1 1 1 1 1]\n",
            " [1 1 1 1 1]\n",
            " [1 1 1 1 1]]\n",
            "Number of elements: 25\n"
          ]
        }
      ],
      "source": [
        "# The size attribute describes the number of elements in the array\n",
        "# We access it with .size\n",
        "\n",
        "print('Array:\\n', five_by_five)\n",
        "\n",
        "print('Number of elements:', five_by_five.size)"
      ]
    },
    {
      "cell_type": "code",
      "execution_count": null,
      "metadata": {
        "id": "SCBatjV8wweF",
        "colab": {
          "base_uri": "https://localhost:8080/"
        },
        "outputId": "85a01ae2-8443-4d59-81a7-4c72f517ab74"
      },
      "outputs": [
        {
          "output_type": "execute_result",
          "data": {
            "text/plain": [
              "25"
            ]
          },
          "metadata": {},
          "execution_count": 60
        }
      ],
      "source": [
        "five_by_five.size"
      ]
    },
    {
      "cell_type": "code",
      "execution_count": null,
      "metadata": {
        "id": "SzQ1_CSA7Jpi",
        "colab": {
          "base_uri": "https://localhost:8080/"
        },
        "outputId": "e7c57e5b-16ac-4531-a5fd-5841adb3bc58"
      },
      "outputs": [
        {
          "output_type": "stream",
          "name": "stdout",
          "text": [
            "five_by_five has this number of rows: 5\n",
            "five_by_five has this number of columns: 5\n"
          ]
        }
      ],
      "source": [
        "# try it out: how many rows/columns are in five_by_five?\n",
        "\n",
        "print(\"five_by_five has this number of rows:\", five_by_five.shape[1])\n",
        "print(\"five_by_five has this number of columns:\", five_by_five.shape[0])"
      ]
    },
    {
      "cell_type": "code",
      "source": [
        "five_by_five.shape"
      ],
      "metadata": {
        "colab": {
          "base_uri": "https://localhost:8080/"
        },
        "id": "O5x_Nn8nKcbo",
        "outputId": "b29ec046-5662-4cf4-a8d7-c9672f367d66"
      },
      "execution_count": null,
      "outputs": [
        {
          "output_type": "execute_result",
          "data": {
            "text/plain": [
              "(5, 5)"
            ]
          },
          "metadata": {},
          "execution_count": 62
        }
      ]
    },
    {
      "cell_type": "code",
      "source": [
        "five_by_five.ndim"
      ],
      "metadata": {
        "colab": {
          "base_uri": "https://localhost:8080/"
        },
        "id": "_pJmQXhaKgiR",
        "outputId": "f62ff4d0-2caa-464c-9ffc-e335c30cdc62"
      },
      "execution_count": null,
      "outputs": [
        {
          "output_type": "execute_result",
          "data": {
            "text/plain": [
              "2"
            ]
          },
          "metadata": {},
          "execution_count": 63
        }
      ]
    },
    {
      "cell_type": "code",
      "execution_count": null,
      "metadata": {
        "id": "l6OeotJUtAUM",
        "colab": {
          "base_uri": "https://localhost:8080/"
        },
        "outputId": "a7ab4b8e-9e25-411b-ef49-523aec29cec5"
      },
      "outputs": [
        {
          "output_type": "stream",
          "name": "stdout",
          "text": [
            "5\n",
            "[3 4 5]\n"
          ]
        }
      ],
      "source": [
        "one_to_five = np.array([1, 2, 3, 4, 5])\n",
        "\n",
        "# try it out:\n",
        "# print the last value of the array\n",
        "print(one_to_five[-1])\n",
        "\n",
        "# print the last three values of the array\n",
        "print(one_to_five[-3:])"
      ]
    },
    {
      "cell_type": "code",
      "execution_count": null,
      "metadata": {
        "id": "awg0JW41IoTW",
        "colab": {
          "base_uri": "https://localhost:8080/"
        },
        "outputId": "3c8f7193-2ceb-4a83-a8e3-5dc8ed290f59"
      },
      "outputs": [
        {
          "output_type": "stream",
          "name": "stdout",
          "text": [
            "Nested list: [[1, 2, 3, 4, 5], [6, 7, 8, 9, 10], [11, 12, 13, 14, 15]]\n",
            "\n",
            "Second sub-list:\n",
            "[6, 7, 8, 9, 10]\n",
            "\n",
            "Second sub-list, last element:\n",
            "10\n",
            "\n",
            "Second sub-list, last three elements:\n",
            "[8, 9, 10]\n"
          ]
        }
      ],
      "source": [
        "# a nested list: each sub-list has 5 elements\n",
        "one_to_fifteen_list = [\n",
        "    [1, 2, 3, 4, 5],\n",
        "    [6, 7, 8, 9, 10],\n",
        "    [11, 12, 13, 14, 15]\n",
        "]\n",
        "print('Nested list:', one_to_fifteen_list)\n",
        "\n",
        "# the second sub-list is index [1]\n",
        "print('\\nSecond sub-list:')\n",
        "print(one_to_fifteen_list[1])\n",
        "\n",
        "# the last element of the second sublist is [1][4]\n",
        "print('\\nSecond sub-list, last element:')\n",
        "print(one_to_fifteen_list[1][4])\n",
        "\n",
        "# the last three elements of the second sublist are [1][2:]\n",
        "print('\\nSecond sub-list, last three elements:')\n",
        "print(one_to_fifteen_list[1][2:])"
      ]
    },
    {
      "cell_type": "code",
      "execution_count": null,
      "metadata": {
        "id": "aN0DttfBtesf",
        "colab": {
          "base_uri": "https://localhost:8080/"
        },
        "outputId": "647d7a66-4c5d-4acc-d1c4-b474b3f87a06"
      },
      "outputs": [
        {
          "output_type": "stream",
          "name": "stdout",
          "text": [
            "Array:\n",
            " [[ 1  2  3  4  5]\n",
            " [ 6  7  8  9 10]\n",
            " [11 12 13 14 15]]\n",
            "\n",
            "Second row:\n",
            "[ 6  7  8  9 10]\n",
            "\n",
            "Second row, last element:\n",
            "10\n",
            "\n",
            "Second row, last three elements:\n",
            "[ 8  9 10]\n"
          ]
        }
      ],
      "source": [
        "# array version of above nested list\n",
        "one_to_fifteen_array = np.array(one_to_fifteen_list)\n",
        "print('Array:\\n', one_to_fifteen_array)\n",
        "\n",
        "# the second row is index [1]\n",
        "print('\\nSecond row:')\n",
        "print(one_to_fifteen_array[1])\n",
        "\n",
        "# the last element of the second row is [1, 4]\n",
        "print('\\nSecond row, last element:')\n",
        "print(one_to_fifteen_array[1, 4])\n",
        "\n",
        "# the last three elements of the second row are [1, 2:]\n",
        "print('\\nSecond row, last three elements:')\n",
        "print(one_to_fifteen_array[1, 2:])"
      ]
    },
    {
      "cell_type": "code",
      "execution_count": null,
      "metadata": {
        "id": "92YanT_6Gdjl",
        "colab": {
          "base_uri": "https://localhost:8080/"
        },
        "outputId": "73590e31-a594-4b88-c447-b8ce940451cb"
      },
      "outputs": [
        {
          "output_type": "stream",
          "name": "stdout",
          "text": [
            "Array:\n",
            " [[ 1  2  3  4  5]\n",
            " [ 6  7  8  9 10]\n",
            " [11 12 13 14 15]]\n",
            "\n",
            "Fourth column:\n"
          ]
        },
        {
          "output_type": "execute_result",
          "data": {
            "text/plain": [
              "array([ 4,  9, 14])"
            ]
          },
          "metadata": {},
          "execution_count": 70
        }
      ],
      "source": [
        "# print array again for convenient viewing\n",
        "print('Array:\\n', one_to_fifteen_array)\n",
        "\n",
        "# print the fourth column of the array\n",
        "print('\\nFourth column:')\n",
        "one_to_fifteen_array[:, 3] # ':' is a placeholder for \"all rows\""
      ]
    },
    {
      "cell_type": "code",
      "execution_count": null,
      "metadata": {
        "id": "x5pONNg-IBx4",
        "colab": {
          "base_uri": "https://localhost:8080/"
        },
        "outputId": "00a9dd64-5476-4b5c-d8da-ba78a790e22f"
      },
      "outputs": [
        {
          "output_type": "stream",
          "name": "stdout",
          "text": [
            "Array:\n",
            " [[ 1  2  3  4  5]\n",
            " [ 6  7  8  9 10]\n",
            " [11 12 13 14 15]]\n",
            "\n",
            "Middle three elements of the first two rows:\n"
          ]
        },
        {
          "output_type": "execute_result",
          "data": {
            "text/plain": [
              "array([[2, 3, 4],\n",
              "       [7, 8, 9]])"
            ]
          },
          "metadata": {},
          "execution_count": 71
        }
      ],
      "source": [
        "# print array again for convenient viewing\n",
        "print('Array:\\n', one_to_fifteen_array)\n",
        "\n",
        "print('\\nMiddle three elements of the first two rows:')\n",
        "# rows: 0, 1\n",
        "# columns: 1, 2, 3\n",
        "one_to_fifteen_array[:2, 1:4]"
      ]
    },
    {
      "cell_type": "code",
      "execution_count": null,
      "metadata": {
        "id": "VZon3CJ_oJPQ",
        "colab": {
          "base_uri": "https://localhost:8080/"
        },
        "outputId": "5e8e57f7-6f3e-4688-d25b-48280fee928f"
      },
      "outputs": [
        {
          "output_type": "stream",
          "name": "stdout",
          "text": [
            "Array:\n",
            " [[ 1  2  3  4  5]\n",
            " [ 6  7  8  9 10]\n",
            " [11 12 13 14 15]]\n",
            "\n",
            "Only the first, third, and fifth columns\n"
          ]
        },
        {
          "output_type": "execute_result",
          "data": {
            "text/plain": [
              "array([[ 1,  3,  5],\n",
              "       [ 6,  8, 10],\n",
              "       [11, 13, 15]])"
            ]
          },
          "metadata": {},
          "execution_count": 72
        }
      ],
      "source": [
        "# print array again for convenient viewing\n",
        "print('Array:\\n', one_to_fifteen_array)\n",
        "\n",
        "print('\\nOnly the first, third, and fifth columns')\n",
        "one_to_fifteen_array[:, (0, 2, 4)]"
      ]
    },
    {
      "cell_type": "code",
      "execution_count": null,
      "metadata": {
        "id": "aOM0gS6pUQzl",
        "colab": {
          "base_uri": "https://localhost:8080/"
        },
        "outputId": "2ac291bd-e25b-4d38-e471-35ef53e9b4e9"
      },
      "outputs": [
        {
          "output_type": "stream",
          "name": "stdout",
          "text": [
            "[[ 2  4  6  8]\n",
            " [10 12 14 16]\n",
            " [18 20 22 24]]\n"
          ]
        }
      ],
      "source": [
        "### write your code below ###\n",
        "\n",
        "nested_lists_even = [\n",
        "    [2, 4, 6, 8],\n",
        "    [10, 12, 14, 16],\n",
        "    [18, 20, 22, 24]\n",
        "]\n",
        "\n",
        "even_3x4 = np.array(nested_lists_even)\n",
        "print(even_3x4)"
      ]
    },
    {
      "cell_type": "code",
      "execution_count": null,
      "metadata": {
        "id": "0J0WFn3PV-BX",
        "colab": {
          "base_uri": "https://localhost:8080/"
        },
        "outputId": "c7159318-bf09-4c98-95e3-ab12d6aa3903"
      },
      "outputs": [
        {
          "output_type": "stream",
          "name": "stdout",
          "text": [
            "96\n"
          ]
        }
      ],
      "source": [
        "# access the relevant attribute for even_3x4\n",
        "\n",
        "### write your code below ###\n",
        "\n",
        "print(even_3x4.nbytes)"
      ]
    },
    {
      "cell_type": "code",
      "execution_count": null,
      "metadata": {
        "id": "FtEI_Jw6qgOt",
        "colab": {
          "base_uri": "https://localhost:8080/"
        },
        "outputId": "7127ee35-dd66-4cd5-fb97-64b3249865c2"
      },
      "outputs": [
        {
          "output_type": "stream",
          "name": "stdout",
          "text": [
            "[[ 2  4  6  8]\n",
            " [10 12 14 16]\n",
            " [18 20 22 24]]\n"
          ]
        },
        {
          "output_type": "execute_result",
          "data": {
            "text/plain": [
              "array([10., 12., 14., 16.])"
            ]
          },
          "metadata": {},
          "execution_count": 78
        }
      ],
      "source": [
        "### write your code below ###\n",
        "\n",
        "print(even_3x4)\n",
        "np.mean(even_3x4, axis=0)"
      ]
    },
    {
      "cell_type": "code",
      "source": [
        "# a. create a 2x4 array filled with random numbers between 0 and 4 (included)\n",
        "\n",
        "# [0, 1]  -- *4 --> [0, 4]\n",
        "\n",
        "### write your code below ###\n",
        "rng = np.random.default_rng()\n",
        "rand_array_2x4 = rng.random(size=(2, 4))\n",
        "rand_array_2x4 = rand_array_2x4 * 4\n",
        "print(rand_array_2x4)"
      ],
      "metadata": {
        "colab": {
          "base_uri": "https://localhost:8080/"
        },
        "id": "zRkIQN2nWrAj",
        "outputId": "f0a8e2da-49d7-4670-9743-ca7051c2eaf3"
      },
      "execution_count": null,
      "outputs": [
        {
          "output_type": "stream",
          "name": "stdout",
          "text": [
            "[[1.45166408 2.45146774 1.69207146 1.93115469]\n",
            " [2.84412035 3.83638259 0.74805166 3.53613145]]\n"
          ]
        }
      ]
    },
    {
      "cell_type": "code",
      "source": [
        "# b. create an array like the one above (i.e. same shape) that is filled with zeros\n",
        "\n",
        "### write your code below ###\n",
        "\n",
        "# first way\n",
        "# np.zeros((2, 4))\n",
        "\n",
        "# second way\n",
        "# np.zeros(rand_array_2x4.shape)\n",
        "\n",
        "# third way\n",
        "np.zeros_like(rand_array_2x4)"
      ],
      "metadata": {
        "colab": {
          "base_uri": "https://localhost:8080/"
        },
        "id": "9X-FQ2FZXTwZ",
        "outputId": "c5ac635a-9dc1-47c7-96c7-f499414c0ecf"
      },
      "execution_count": null,
      "outputs": [
        {
          "output_type": "execute_result",
          "data": {
            "text/plain": [
              "array([[0., 0., 0., 0.],\n",
              "       [0., 0., 0., 0.]])"
            ]
          },
          "metadata": {},
          "execution_count": 89
        }
      ]
    },
    {
      "cell_type": "code",
      "source": [
        "# c. use numpy to answer the following question: are a and b element-wise equal?\n",
        "# Note: \"element-wise equal\" means all their elements are equal.\n",
        "\n",
        "### write your code below ###\n",
        "\n",
        "# a = rng.random(size=(2, 4))\n",
        "a = np.zeros((2, 4))\n",
        "b = np.zeros((2, 4))\n",
        "\n",
        "print(\"array a\\n\", a)\n",
        "print(\"array b\\n\", b)\n",
        "\n",
        "# a == b\n",
        "np.array_equal(a, b)"
      ],
      "metadata": {
        "colab": {
          "base_uri": "https://localhost:8080/"
        },
        "id": "76dONRm3Ykku",
        "outputId": "cdd5d42d-ac86-46a5-9478-3600b5c0468f"
      },
      "execution_count": null,
      "outputs": [
        {
          "output_type": "stream",
          "name": "stdout",
          "text": [
            "array a\n",
            " [[1. 1. 1. 1.]\n",
            " [1. 1. 1. 1.]]\n",
            "array b\n",
            " [[0. 0. 0. 0.]\n",
            " [0. 0. 0. 0.]]\n"
          ]
        },
        {
          "output_type": "execute_result",
          "data": {
            "text/plain": [
              "False"
            ]
          },
          "metadata": {},
          "execution_count": 93
        }
      ]
    },
    {
      "cell_type": "code",
      "source": [
        "# d. print a 1D array that contains the values in the 2D array below but with no duplicates\n",
        "\n",
        "some_array = np.array(\n",
        "    [\n",
        "        [1, 28, 9, 3, 66],\n",
        "        [2, 3, 14, 9, 29],\n",
        "        [5, 5, 1, 41, 28],\n",
        "    ]\n",
        ")\n",
        "\n",
        "### write your code below ###\n",
        "\n",
        "np.unique(some_array)"
      ],
      "metadata": {
        "colab": {
          "base_uri": "https://localhost:8080/"
        },
        "id": "UG9gjO7RaKtz",
        "outputId": "6036a6fa-9a06-4a54-f5cd-867292b1d4a6"
      },
      "execution_count": null,
      "outputs": [
        {
          "output_type": "execute_result",
          "data": {
            "text/plain": [
              "array([ 1,  2,  3,  5,  9, 14, 28, 29, 41, 66])"
            ]
          },
          "metadata": {},
          "execution_count": 94
        }
      ]
    },
    {
      "cell_type": "code",
      "execution_count": null,
      "metadata": {
        "id": "A0Ldw-m-KpwS",
        "colab": {
          "base_uri": "https://localhost:8080/"
        },
        "outputId": "d2466c61-7eea-44ab-b74e-d1c13e5e424a"
      },
      "outputs": [
        {
          "output_type": "stream",
          "name": "stdout",
          "text": [
            "[[2.26317975 1.82148218 0.05607719 3.74300581]\n",
            " [3.42564936 3.88299928 2.44502833 3.2314573 ]]\n"
          ]
        },
        {
          "output_type": "execute_result",
          "data": {
            "text/plain": [
              "array([[2.26317975, 1.82148218, 1.        , 3.        ],\n",
              "       [3.        , 3.        , 2.44502833, 3.        ]])"
            ]
          },
          "metadata": {},
          "execution_count": 100
        }
      ],
      "source": [
        "# e. limit the values in the array from part a by constraining them to be in the interval [1,3]\n",
        "# (i.e. any value less than 1 is replaced with a 1 and any value greater than 3 is replaced with a 3)\n",
        "\n",
        "### write your code below ###\n",
        "rng = np.random.default_rng()\n",
        "rand_array_2x4 = rng.random(size=(2, 4))\n",
        "rand_array_2x4 = rand_array_2x4 * 4\n",
        "print(rand_array_2x4)\n",
        "\n",
        "# first way\n",
        "# rand_array_2x4 = np.where(rand_array_2x4 < 1, 1, rand_array_2x4)\n",
        "# rand_array_2x4 = np.where(rand_array_2x4 > 3, 3, rand_array_2x4)\n",
        "# print(rand_array_2x4)\n",
        "\n",
        "# second way\n",
        "np.clip(rand_array_2x4, 1, 3)\n",
        "\n",
        "# f. use numpy to revert the casing in the string array below (uppercase become lowercase and vice versa)\n",
        "\n",
        "\n",
        "### write your code below ###\n"
      ]
    },
    {
      "cell_type": "code",
      "source": [
        "?np.clip"
      ],
      "metadata": {
        "id": "OvVM_0MlclsK"
      },
      "execution_count": null,
      "outputs": []
    },
    {
      "cell_type": "code",
      "source": [
        "np.array([1, 2, 3]) * np.array([4, 5, 6])"
      ],
      "metadata": {
        "colab": {
          "base_uri": "https://localhost:8080/"
        },
        "id": "hwh_RwP_eN7C",
        "outputId": "af17790d-fbb7-4096-8078-f81550bbe61a"
      },
      "execution_count": null,
      "outputs": [
        {
          "output_type": "execute_result",
          "data": {
            "text/plain": [
              "array([ 4, 10, 18])"
            ]
          },
          "metadata": {},
          "execution_count": 101
        }
      ]
    },
    {
      "cell_type": "code",
      "source": [
        "?np.eye"
      ],
      "metadata": {
        "id": "GCw0GP2henYj"
      },
      "execution_count": null,
      "outputs": []
    },
    {
      "cell_type": "code",
      "source": [
        "?np.nonzero"
      ],
      "metadata": {
        "id": "EFhnq1EVfK8M"
      },
      "execution_count": null,
      "outputs": []
    },
    {
      "cell_type": "code",
      "execution_count": null,
      "metadata": {
        "id": "ntsUIEX4RxE2"
      },
      "outputs": [],
      "source": [
        "### write your code below ###\n",
        "\n",
        "def off_diagonals(my_array):\n",
        "    diag_aray =  np.eye(my_array.shape[0])\n",
        "    diag_aray = diag_aray - 1\n",
        "    return my_array[np.nonzero(diag_aray)]\n",
        "\n"
      ]
    },
    {
      "cell_type": "code",
      "execution_count": null,
      "metadata": {
        "id": "s0FS3-T6Ren2",
        "colab": {
          "base_uri": "https://localhost:8080/"
        },
        "outputId": "52b230ce-d702-4110-d2f8-402d16cb945b"
      },
      "outputs": [
        {
          "output_type": "stream",
          "name": "stdout",
          "text": [
            "Test mat: \n",
            " [[ 1  2  5 12]\n",
            " [ 5  8 10  3]\n",
            " [15  2 21  4]\n",
            " [ 8  9 11  3]] \n",
            "\n",
            "Off diagonal entries: \n",
            " [ 2  5 12  5 10  3 15  2  4  8  9 11]\n"
          ]
        }
      ],
      "source": [
        "# Execute this cell after having defined off_diagonals above and make sure it passes\n",
        "test_mat = np.array([[1, 2, 5, 12],\n",
        "                     [5, 8, 10, 3],\n",
        "                     [15, 2, 21, 4],\n",
        "                     [8, 9, 11, 3]])\n",
        "\n",
        "print('Test mat: \\n', test_mat, '\\n')\n",
        "\n",
        "print('Off diagonal entries: \\n', off_diagonals(test_mat))\n",
        "\n",
        "assert(all(off_diagonals(test_mat) == [2.0, 5.0, 12.0, 5.0, 10.0, 3.0, 15.0, 2.0, 4.0, 8.0, 9.0, 11.0]))"
      ]
    },
    {
      "cell_type": "code",
      "execution_count": null,
      "metadata": {
        "id": "2o0sLPXpsWxX"
      },
      "outputs": [],
      "source": [
        "### edit the skeleton code below ###\n",
        "\n",
        "def translate(seq):\n",
        "    # we've created an amino acid dictionary for you already\n",
        "    amino_dict = {'AAA': 'K', 'AAC': 'N', 'AAG': 'K', 'AAU': 'N',\n",
        "           'ACA': 'T', 'ACC': 'T', 'ACG': 'T', 'ACU': 'T',\n",
        "           'AGA': 'R', 'AGC': 'S', 'AGG': 'R', 'AGU': 'S',\n",
        "           'AUA': 'I', 'AUC': 'I', 'AUG': 'M', 'AUU': 'I',\n",
        "           'CAA': 'Q', 'CAC': 'H', 'CAG': 'Q', 'CAU': 'H',\n",
        "           'CCA': 'P', 'CCC': 'P', 'CCG': 'P', 'CCU': 'P',\n",
        "           'CGA': 'R', 'CGC': 'R', 'CGG': 'R', 'CGU': 'R',\n",
        "           'CUA': 'L', 'CUC': 'L', 'CUG': 'L', 'CUU': 'L',\n",
        "           'GAA': 'E', 'GAC': 'D', 'GAG': 'E', 'GAU': 'D',\n",
        "           'GCA': 'A', 'GCC': 'A', 'GCG': 'A', 'GCU': 'A',\n",
        "           'GGA': 'G', 'GGC': 'G', 'GGG': 'G', 'GGU': 'G',\n",
        "           'GUA': 'V', 'GUC': 'V', 'GUG': 'V', 'GUU': 'V',\n",
        "           'UAA': '_', 'UAC': 'Y', 'UAG': '_', 'UAU': 'Y',\n",
        "           'UCA': 'S', 'UCC': 'S', 'UCG': 'S', 'UCU': 'S',\n",
        "           'UGA': '_', 'UGC': 'C', 'UGG': 'W', 'UGU': 'C',\n",
        "           'UUA': 'L', 'UUC': 'F', 'UUG': 'L', 'UUU': 'F'}\n",
        "\n",
        "  ### write your code below ###\n"
      ]
    },
    {
      "cell_type": "code",
      "execution_count": null,
      "metadata": {
        "id": "5pdoRyosOjJO"
      },
      "outputs": [],
      "source": [
        "# try it out with translation_seq when you're done\n",
        "translation_seq = 'AACGTCAATGTATCACGCGACTAGCCTCTGCTTAATTTTTGTGCTCAAGGGTTTTGGTCCGCCCGAGCGGTGCAGCCGATTAGGACCATGTAATACATTTGTTACAAGACTTCTTTTAAACACTTAG'\n",
        "\n",
        "print(translate(translation_seq))\n",
        "print(translate(\"AAGACAUGGCACUGGAGCGCGGGGUCAGCAGCUACGCUUAA\"))"
      ]
    },
    {
      "cell_type": "code",
      "execution_count": null,
      "metadata": {
        "id": "oDPadsUMn9Y5"
      },
      "outputs": [],
      "source": [
        "# everything below is instantiated in the global environment\n",
        "\n",
        "dog_breeds = ['shiba inu', 'corgi', 'pug']\n",
        "dog_counts = [6, 2, 3]\n",
        "dog_record = dict(zip(dog_breeds, dog_counts))"
      ]
    },
    {
      "cell_type": "code",
      "execution_count": null,
      "metadata": {
        "id": "45I8mugNpKFE"
      },
      "outputs": [],
      "source": [
        "def doggy_daycare(breeds, counts):\n",
        "    dog_breeds = breeds\n",
        "    dog_counts = counts\n",
        "    dog_record = dict(zip(breeds, counts))\n",
        "\n",
        "    return dog_record"
      ]
    },
    {
      "cell_type": "markdown",
      "metadata": {
        "id": "g5kHufSQ27Kv"
      },
      "source": [
        "When run, `doggy_daycare()` creates variables named `dog_breeds`, `dog_counts`, and `dog_record`. How will these local variables interact with their identically named global counterparts?"
      ]
    },
    {
      "cell_type": "code",
      "execution_count": null,
      "metadata": {
        "id": "ALSzvMlF23Gs"
      },
      "outputs": [],
      "source": [
        "print('Global dog_record:', dog_record)\n",
        "print('dog_record, local to doggy_daycare:', doggy_daycare(['german shepherd', 'husky'], [3, 2]))\n",
        "print('Global dog_record is unchanged:', dog_record)"
      ]
    },
    {
      "cell_type": "code",
      "execution_count": null,
      "metadata": {
        "id": "sAvWw5M6rywN"
      },
      "outputs": [],
      "source": [
        "def daycare_report():\n",
        "    daycare_greeting = \"Have a paw-some day!\"\n",
        "    print(\"We have\", sum(dog_counts), \"dogs today.\")\n",
        "    print(daycare_greeting)\n",
        "\n",
        "daycare_report()\n",
        "print(daycare_greeting)"
      ]
    }
  ],
  "metadata": {
    "colab": {
      "provenance": [],
      "include_colab_link": true
    },
    "kernelspec": {
      "display_name": "Python 3",
      "name": "python3"
    },
    "language_info": {
      "name": "python"
    }
  },
  "nbformat": 4,
  "nbformat_minor": 0
}