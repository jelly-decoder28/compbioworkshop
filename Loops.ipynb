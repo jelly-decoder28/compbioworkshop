{
  "cells": [
    {
      "cell_type": "markdown",
      "metadata": {
        "id": "view-in-github",
        "colab_type": "text"
      },
      "source": [
        "<a href=\"https://colab.research.google.com/github/jelly-decoder28/compbioworkshop/blob/main/Loops.ipynb\" target=\"_parent\"><img src=\"https://colab.research.google.com/assets/colab-badge.svg\" alt=\"Open In Colab\"/></a>"
      ]
    },
    {
      "cell_type": "markdown",
      "metadata": {
        "id": "Pbbz6IM3WK5E"
      },
      "source": [
        "# Intro to loops"
      ]
    },
    {
      "cell_type": "code",
      "execution_count": null,
      "metadata": {
        "id": "Cgk_JKyLUGOj",
        "colab": {
          "base_uri": "https://localhost:8080/"
        },
        "outputId": "3e3c67fe-a5ba-45c1-a3d9-11a26c86ea23"
      },
      "outputs": [
        {
          "output_type": "stream",
          "name": "stdout",
          "text": [
            "Weekdays: ['Monday', 'Tuesday', 'Wednesday', 'Thursday', 'Friday']\n",
            "Weekends: ['Saturday', 'Sunday']\n"
          ]
        }
      ],
      "source": [
        "# a quick review of creating and nesting lists\n",
        "weekdays = ['Monday', 'Tuesday', 'Wednesday', 'Thursday', 'Friday']\n",
        "weekends = ['Saturday', 'Sunday']\n",
        "week = [weekdays, weekends]\n",
        "\n",
        "print('Weekdays:', weekdays)\n",
        "print('Weekends:', weekends)"
      ]
    },
    {
      "cell_type": "markdown",
      "metadata": {
        "id": "AqVdUR-Gnl7_"
      },
      "source": [
        "We can access elements in iterables using *indexing*. The first position of an iterable starts at the `0`th index due to *zero indexing*. For example, consider `weekdays`, which contains five string elements.\n",
        "\n",
        "| iterable element | index position |\n",
        "|------------------|----------------|\n",
        "| Monday           | 0              |\n",
        "| Tuesday          | 1              |\n",
        "| Wednesday        | 2              |\n",
        "| Thursday         | 3              |\n",
        "| Friday           | 4              |"
      ]
    },
    {
      "cell_type": "code",
      "execution_count": null,
      "metadata": {
        "id": "dzQecYGVnkuY",
        "colab": {
          "base_uri": "https://localhost:8080/"
        },
        "outputId": "6c2929c0-a07b-47df-e9a6-eb5956a7af9a"
      },
      "outputs": [
        {
          "output_type": "stream",
          "name": "stdout",
          "text": [
            "Monday\n",
            "Friday\n",
            "['Tuesday', 'Wednesday', 'Thursday', 'Friday']\n",
            "['Saturday', 'Sunday']\n",
            "Saturday\n"
          ]
        }
      ],
      "source": [
        "# first element in weekdays\n",
        "print(weekdays[0])\n",
        "\n",
        "# last element in weekdays\n",
        "print(weekdays[-1])\n",
        "\n",
        "# slice from the second element through the end of the list\n",
        "print(weekdays[1:])\n",
        "\n",
        "# second sub-list in week\n",
        "print(week[1])\n",
        "\n",
        "# get first element from the second sub-list in week\n",
        "print(week[1][0])"
      ]
    },
    {
      "cell_type": "code",
      "execution_count": null,
      "metadata": {
        "id": "bzqZqoBpVjR6",
        "colab": {
          "base_uri": "https://localhost:8080/"
        },
        "outputId": "c58e62f9-9e30-4053-acd3-22b38955195e"
      },
      "outputs": [
        {
          "output_type": "stream",
          "name": "stdout",
          "text": [
            "6\n",
            "7\n",
            "9\n",
            "8\n",
            "6\n"
          ]
        }
      ],
      "source": [
        "# try it out:\n",
        "# use len() and print() to count the length of each element in weekdays\n",
        "\n",
        "print(len(weekdays[0]))\n",
        "print(len(weekdays[1]))\n",
        "print(len(weekdays[2]))\n",
        "print(len(weekdays[3]))\n",
        "print(len(weekdays[4]))"
      ]
    },
    {
      "cell_type": "code",
      "execution_count": null,
      "metadata": {
        "id": "H7zKqTflWlC9",
        "colab": {
          "base_uri": "https://localhost:8080/"
        },
        "outputId": "11691ef3-740a-4d3f-8d8f-ad2686a30081"
      },
      "outputs": [
        {
          "output_type": "stream",
          "name": "stdout",
          "text": [
            "6\n",
            "7\n",
            "9\n",
            "8\n",
            "6\n",
            "Now we are outside of the loop!\n",
            "6\n",
            "The weekdays list:  ['Monday', 'Tuesday', 'Wednesday', 'Thursday', 'Friday']\n"
          ]
        }
      ],
      "source": [
        "for day in weekdays:\n",
        "    print(len(day)) # this is part of the loop\n",
        "\n",
        "print(\"Now we are outside of the loop!\")\n",
        "print(len(day))\n",
        "print('The weekdays list: ', weekdays) # this is NOT part of the loop"
      ]
    },
    {
      "cell_type": "code",
      "source": [
        "print(day)"
      ],
      "metadata": {
        "id": "c8nKh2c03ckG",
        "colab": {
          "base_uri": "https://localhost:8080/"
        },
        "outputId": "d6fe1e22-1c1c-4ee5-ddd5-b0e4f20da3e8"
      },
      "execution_count": null,
      "outputs": [
        {
          "output_type": "stream",
          "name": "stdout",
          "text": [
            "Friday\n"
          ]
        }
      ]
    },
    {
      "cell_type": "markdown",
      "metadata": {
        "id": "qrqfYd3LW2ej"
      },
      "source": [
        "\n",
        "\n",
        "![96 well plate](https://upload.wikimedia.org/wikipedia/commons/thumb/0/07/96-Well_plate.svg/453px-96-Well_plate.svg.png?20201120040527)\n"
      ]
    },
    {
      "cell_type": "code",
      "execution_count": null,
      "metadata": {
        "id": "etGZXpNEXWE3",
        "colab": {
          "base_uri": "https://localhost:8080/"
        },
        "outputId": "cf332fc5-41e8-40bd-f498-1cd22f63d709"
      },
      "outputs": [
        {
          "output_type": "stream",
          "name": "stdout",
          "text": [
            "Start of row A\n",
            "A1\n",
            "A2\n",
            "A3\n",
            "A4\n",
            "A5\n",
            "A6\n",
            "A7\n",
            "A8\n",
            "A9\n",
            "A10\n",
            "A11\n",
            "A12\n",
            "Start of row B\n",
            "B1\n",
            "B2\n",
            "B3\n",
            "B4\n",
            "B5\n",
            "B6\n",
            "B7\n",
            "B8\n",
            "B9\n",
            "B10\n",
            "B11\n",
            "B12\n",
            "Start of row C\n",
            "C1\n",
            "C2\n",
            "C3\n",
            "C4\n",
            "C5\n",
            "C6\n",
            "C7\n",
            "C8\n",
            "C9\n",
            "C10\n",
            "C11\n",
            "C12\n",
            "Start of row D\n",
            "D1\n",
            "D2\n",
            "D3\n",
            "D4\n",
            "D5\n",
            "D6\n",
            "D7\n",
            "D8\n",
            "D9\n",
            "D10\n",
            "D11\n",
            "D12\n",
            "Start of row E\n",
            "E1\n",
            "E2\n",
            "E3\n",
            "E4\n",
            "E5\n",
            "E6\n",
            "E7\n",
            "E8\n",
            "E9\n",
            "E10\n",
            "E11\n",
            "E12\n",
            "Start of row F\n",
            "F1\n",
            "F2\n",
            "F3\n",
            "F4\n",
            "F5\n",
            "F6\n",
            "F7\n",
            "F8\n",
            "F9\n",
            "F10\n",
            "F11\n",
            "F12\n",
            "Start of row G\n",
            "G1\n",
            "G2\n",
            "G3\n",
            "G4\n",
            "G5\n",
            "G6\n",
            "G7\n",
            "G8\n",
            "G9\n",
            "G10\n",
            "G11\n",
            "G12\n",
            "Start of row H\n",
            "H1\n",
            "H2\n",
            "H3\n",
            "H4\n",
            "H5\n",
            "H6\n",
            "H7\n",
            "H8\n",
            "H9\n",
            "H10\n",
            "H11\n",
            "H12\n"
          ]
        }
      ],
      "source": [
        "# warning: this is going to print a lot of text to output\n",
        "\n",
        "# rows and columns of a 96 well plate\n",
        "rows = ['A', 'B', 'C', 'D', 'E', 'F', 'G', 'H']\n",
        "columns = ['1', '2', '3', '4', '5', '6', '7', '8', '9', '10', '11', '12']\n",
        "\n",
        "for row in rows:\n",
        "\tprint('Start of row', row)\n",
        "\tfor col in columns:\n",
        "\t\tprint(row+col) # the nested for statement code needs to be indented one more level"
      ]
    },
    {
      "cell_type": "code",
      "execution_count": null,
      "metadata": {
        "id": "MNu54_J7_SLK",
        "colab": {
          "base_uri": "https://localhost:8080/"
        },
        "outputId": "1f084dfa-1145-440a-8dc1-542a1a9b9694"
      },
      "outputs": [
        {
          "output_type": "execute_result",
          "data": {
            "text/plain": [
              "range(2, 10)"
            ]
          },
          "metadata": {},
          "execution_count": 7
        }
      ],
      "source": [
        "# a range from 2 to 10, exclusive of 10\n",
        "(range(2, 10))"
      ]
    },
    {
      "cell_type": "code",
      "execution_count": null,
      "metadata": {
        "id": "-e3MzvLpJeR-",
        "colab": {
          "base_uri": "https://localhost:8080/"
        },
        "outputId": "11084d5f-4dc0-4cdd-d8d5-3f1b6c2c43e9"
      },
      "outputs": [
        {
          "output_type": "stream",
          "name": "stdout",
          "text": [
            "First loop (all numbers)\n",
            "5\n",
            "6\n",
            "7\n",
            "8\n",
            "9\n",
            "10\n",
            "11\n",
            "Second loop (every third number)\n",
            "5\n",
            "8\n",
            "11\n"
          ]
        }
      ],
      "source": [
        "print(\"First loop (all numbers)\")\n",
        "for number in range(5, 12):\n",
        "    print(number)\n",
        "\n",
        "print(\"Second loop (every third number)\")\n",
        "for number in range(5, 12, 3):\n",
        "    print(number)"
      ]
    },
    {
      "cell_type": "code",
      "source": [
        "# try it out:\n",
        "# print all even numbers between 20 and 30, including 20 and 30\n",
        "\n",
        "for number in range(20, 32, 2):\n",
        "    print(number)"
      ],
      "metadata": {
        "id": "BjHaiPKX4GXP",
        "colab": {
          "base_uri": "https://localhost:8080/"
        },
        "outputId": "9a85ff97-44ca-42dd-82f8-3acce1bedbbd"
      },
      "execution_count": null,
      "outputs": [
        {
          "output_type": "stream",
          "name": "stdout",
          "text": [
            "20\n",
            "22\n",
            "24\n",
            "26\n",
            "28\n",
            "30\n"
          ]
        }
      ]
    },
    {
      "cell_type": "code",
      "execution_count": null,
      "metadata": {
        "id": "CGL5yOFnLUAx",
        "colab": {
          "base_uri": "https://localhost:8080/"
        },
        "outputId": "50645de9-2a0e-42b5-be5b-e2d104c3b15b"
      },
      "outputs": [
        {
          "output_type": "stream",
          "name": "stdout",
          "text": [
            "a\n",
            "b\n",
            "c\n",
            "d\n",
            "e\n",
            "f\n",
            "g\n",
            "h\n",
            "i\n",
            "j\n",
            "k\n",
            "l\n",
            "m\n",
            "n\n",
            "o\n",
            "p\n",
            "q\n",
            "r\n",
            "s\n",
            "t\n",
            "u\n",
            "v\n",
            "q\n",
            "x\n",
            "y\n",
            "z\n"
          ]
        }
      ],
      "source": [
        "alphabet = 'abcdefghijklmnopqrstuvqxyz'\n",
        "\n",
        "for index in range(0, len(alphabet)):\n",
        "    print(alphabet[index])"
      ]
    },
    {
      "cell_type": "code",
      "execution_count": null,
      "metadata": {
        "id": "HBr5AYwvKI6J",
        "colab": {
          "base_uri": "https://localhost:8080/"
        },
        "outputId": "d0274865-1056-4c03-ed95-9617dbaf459c"
      },
      "outputs": [
        {
          "output_type": "stream",
          "name": "stdout",
          "text": [
            "b\n",
            "d\n",
            "f\n",
            "h\n",
            "j\n",
            "l\n",
            "n\n",
            "p\n",
            "r\n",
            "t\n",
            "v\n",
            "x\n",
            "z\n"
          ]
        }
      ],
      "source": [
        "# every other letter of the alphabet\n",
        "\n",
        "alphabet = 'abcdefghijklmnopqrstuvqxyz'\n",
        "\n",
        "for index in range(1, len(alphabet), 2):\n",
        "  print(alphabet[index])"
      ]
    },
    {
      "cell_type": "code",
      "execution_count": null,
      "metadata": {
        "id": "g6RWZeMTLBGo",
        "colab": {
          "base_uri": "https://localhost:8080/"
        },
        "outputId": "e1bdc299-248a-406d-9430-1a3c3dc9fe83"
      },
      "outputs": [
        {
          "output_type": "stream",
          "name": "stdout",
          "text": [
            "abcd\n",
            "defg\n",
            "ghij\n",
            "jklm\n",
            "mnop\n",
            "pqrs\n",
            "stuv\n",
            "vqxy\n",
            "yz\n"
          ]
        }
      ],
      "source": [
        "# three-letter interval slices of the alphabet\n",
        "\n",
        "alphabet = 'abcdefghijklmnopqrstuvqxyz'\n",
        "\n",
        "for index in range(0, len(alphabet), 3):\n",
        "  print(alphabet[index:index+4])"
      ]
    },
    {
      "cell_type": "code",
      "source": [
        "# overindexing a string\n",
        "my_string = \"Hello World!\"\n",
        "my_string[0:15]"
      ],
      "metadata": {
        "colab": {
          "base_uri": "https://localhost:8080/",
          "height": 56
        },
        "id": "yQOZYDaHr_iS",
        "outputId": "696d1c3e-2eb2-46f3-f27d-829384fa1a70"
      },
      "execution_count": null,
      "outputs": [
        {
          "output_type": "execute_result",
          "data": {
            "text/plain": [
              "'Hello World!'"
            ],
            "application/vnd.google.colaboratory.intrinsic+json": {
              "type": "string"
            }
          },
          "metadata": {},
          "execution_count": 17
        }
      ]
    },
    {
      "cell_type": "code",
      "execution_count": null,
      "metadata": {
        "id": "X6B5ioGTO4HP",
        "colab": {
          "base_uri": "https://localhost:8080/"
        },
        "outputId": "7d72a204-f9c4-40fd-f118-e1796891735d"
      },
      "outputs": [
        {
          "output_type": "stream",
          "name": "stdout",
          "text": [
            "True\n",
            "<class 'bool'>\n"
          ]
        }
      ],
      "source": [
        "# is 5 + 3 equal to 8?\n",
        "print(5 + 3 == 8)\n",
        "print(type(5 + 3 == 8))"
      ]
    },
    {
      "cell_type": "code",
      "execution_count": null,
      "metadata": {
        "id": "IJSehYdkP6_i",
        "colab": {
          "base_uri": "https://localhost:8080/"
        },
        "outputId": "4c27815e-2036-4abb-ecc3-50b7ae4d7ce8"
      },
      "outputs": [
        {
          "output_type": "stream",
          "name": "stdout",
          "text": [
            "False\n"
          ]
        }
      ],
      "source": [
        "# is the string 'True' equal to the Boolean value True?\n",
        "\n",
        "print('True' == (True))"
      ]
    },
    {
      "cell_type": "code",
      "execution_count": null,
      "metadata": {
        "id": "INMFYQ8OT1mL",
        "colab": {
          "base_uri": "https://localhost:8080/"
        },
        "outputId": "a3fb2bd6-f078-4055-f4e3-3555e7036fe2"
      },
      "outputs": [
        {
          "output_type": "stream",
          "name": "stdout",
          "text": [
            "True\n",
            "False\n"
          ]
        }
      ],
      "source": [
        "mixed_list = ['one', 2, 3.0, 'four', 5]\n",
        "\n",
        "print('four' in mixed_list) # Is 'four' in mixed_list?\n",
        "\n",
        "print('seven' in mixed_list) # Is 'seven' in mixed_list?"
      ]
    },
    {
      "cell_type": "code",
      "execution_count": null,
      "metadata": {
        "id": "L_BVS5cfRfz3",
        "colab": {
          "base_uri": "https://localhost:8080/"
        },
        "outputId": "ffae35d3-0f4c-4239-b2b5-ae56e313283b"
      },
      "outputs": [
        {
          "output_type": "stream",
          "name": "stdout",
          "text": [
            "Is 9 equal to '9'?\n",
            " False\n",
            "Is 5 greater than 3?\n",
            " True\n",
            "Is 9 less than 4?\n",
            " False\n",
            "Is 12 greater than or equal to 12?\n",
            " True\n",
            "Is 4.333 less than or equal to 4.33333333?\n",
            " True\n",
            "Is 5 equal to 5?\n",
            " True\n",
            "Is 5 not equal to 5?\n",
            " False\n",
            "Is 3 in the list [1, 2, 3, 4, 5]?\n",
            " True\n",
            "Is the substring 'an' present in the string 'banana'?\n",
            " True\n"
          ]
        }
      ],
      "source": [
        "# try it out:\n",
        "# replace the comment ### REPLACE ME ### with the appropriate logic check\n",
        "# for the following operations\n",
        "\n",
        "# the \\n is a newline character that we are using to make the strings print\n",
        "# in a more human-readable fashion: you can read more in the [Optional] string\n",
        "# formatting section\n",
        "\n",
        "print(\"Is 9 equal to '9'?\\n\", 9 == '9')\n",
        "\n",
        "print('Is 5 greater than 3?\\n', 5 > 3)\n",
        "\n",
        "print('Is 9 less than 4?\\n', 9 < 4 )\n",
        "\n",
        "print('Is 12 greater than or equal to 12?\\n', 12 >= 12)\n",
        "\n",
        "print('Is 4.333 less than or equal to 4.33333333?\\n', 4.333 <= 4.33333333)\n",
        "\n",
        "print('Is 5 equal to 5?\\n', 5 == 5)\n",
        "\n",
        "print('Is 5 not equal to 5?\\n', (5 != 5))\n",
        "\n",
        "myList = [1, 2, 3, 4, 5]\n",
        "print('Is 3 in the list [1, 2, 3, 4, 5]?\\n', (3 in myList))\n",
        "\n",
        "print(\"Is the substring 'an' present in the string 'banana'?\\n\", 'an' in 'bananana')\n",
        "\n"
      ]
    },
    {
      "cell_type": "code",
      "execution_count": null,
      "metadata": {
        "id": "bV-qXGPXVSKm",
        "colab": {
          "base_uri": "https://localhost:8080/"
        },
        "outputId": "f27b0b3a-7497-4424-b5a8-bca2a4f9e109"
      },
      "outputs": [
        {
          "output_type": "stream",
          "name": "stdout",
          "text": [
            "one is a string.\n",
            "four is a string.\n"
          ]
        }
      ],
      "source": [
        "mixed_list = ['one', 2, 3.0, 'four', 5]\n",
        "\n",
        "# we want to iterate through each element in mixed_list\n",
        "# and print a sentence if the element is a string\n",
        "\n",
        "for element in mixed_list:\n",
        "    if type(element) == str:  # str represents the string type\n",
        "        print(element, \"is a string.\")"
      ]
    },
    {
      "cell_type": "code",
      "execution_count": null,
      "metadata": {
        "id": "TPOPrl1EYzcc",
        "colab": {
          "base_uri": "https://localhost:8080/"
        },
        "outputId": "fd50899b-4bfb-4eb2-d095-653f0fd31262"
      },
      "outputs": [
        {
          "output_type": "stream",
          "name": "stdout",
          "text": [
            "one is a string.\n",
            "2 is not a string, it is a <class 'int'>\n",
            "3.0 is not a string, it is a <class 'float'>\n",
            "four is a string.\n",
            "5 is not a string, it is a <class 'int'>\n",
            "6 is not a string, it is a <class 'int'>\n"
          ]
        }
      ],
      "source": [
        "mixed_list = ['one', 2, 3.0, 'four', 5, 6]\n",
        "\n",
        "# we want to go through each element in mixed_list\n",
        "# and print different sentences depending on the element type\n",
        "\n",
        "for element in mixed_list:\n",
        "    if type(element) == str:\n",
        "        print(element, \"is a string.\")\n",
        "    else:\n",
        "        print(element, \"is not a string, it is a\", type(element))"
      ]
    },
    {
      "cell_type": "code",
      "execution_count": null,
      "metadata": {
        "id": "rqrgoYIWZ_K3",
        "colab": {
          "base_uri": "https://localhost:8080/"
        },
        "outputId": "37cee9ae-82dc-4c50-8bc6-f7653339453a"
      },
      "outputs": [
        {
          "output_type": "stream",
          "name": "stdout",
          "text": [
            "one is a string.\n",
            "2 is an even number.\n",
            "3.0 is not a string, it is a <class 'float'>\n",
            "four is a string.\n",
            "5 is not a string, it is a <class 'int'>\n",
            "6 is an even number.\n"
          ]
        }
      ],
      "source": [
        "mixed_list = ['one', 2, 3.0, 'four', 5, 6]\n",
        "\n",
        "for element in mixed_list:\n",
        "    if type(element) == str:\n",
        "        print(element, \"is a string.\")\n",
        "    elif element % 2 == 0: # remember that % returns the remainder of the division\n",
        "        print(element, \"is an even number.\")\n",
        "    else:\n",
        "        print(element, \"is not a string, it is a\", type(element))"
      ]
    },
    {
      "cell_type": "code",
      "execution_count": null,
      "metadata": {
        "id": "0h89FOyXejwe",
        "colab": {
          "base_uri": "https://localhost:8080/"
        },
        "outputId": "31ff9534-6091-41a3-c077-5ad7c730488e"
      },
      "outputs": [
        {
          "output_type": "stream",
          "name": "stdout",
          "text": [
            "Let me take a look at this apple ...\n",
            "I'll take this today.\n",
            "Let me take a look at this orange ...\n",
            "Isn't it funny that a(n) orange is both a fruit and a color?\n",
            "Let me take a look at this banana ...\n",
            "I'll take this today.\n",
            "Let me take a look at this grapes ...\n",
            "I'll take this today.\n",
            "Let me take a look at this kiwi ...\n",
            "Not this one.\n"
          ]
        }
      ],
      "source": [
        "# Decision making in the fruit section: it's complicated!\n",
        "\n",
        "fruits = ['apple', 'orange', 'banana', 'grapes', 'kiwi']\n",
        "colors = ['red', 'yellow', 'orange']\n",
        "sale = ['apple', 'banana']\n",
        "favorite = ['apple', 'grapes']\n",
        "\n",
        "for fruit in fruits:\n",
        "    print(\"Let me take a look at this\", fruit, \"...\")\n",
        "    if (fruit in fruits) and (fruit in colors):\n",
        "        print(\"Isn't it funny that a(n)\", fruit, \"is both a fruit and a color?\")\n",
        "    elif (fruit in sale) or (fruit in favorite):\n",
        "        print(\"I'll take this today.\")\n",
        "    else:\n",
        "        print(\"Not this one.\")"
      ]
    },
    {
      "cell_type": "code",
      "execution_count": null,
      "metadata": {
        "id": "SAGjSxWgXskZ",
        "colab": {
          "base_uri": "https://localhost:8080/"
        },
        "outputId": "6b53d33e-ada1-4eae-e74e-97118249afa1"
      },
      "outputs": [
        {
          "output_type": "stream",
          "name": "stdout",
          "text": [
            "The Department of Molecular Biology\n",
            "The Department of Molecular Chemistry\n",
            "The Department of Molecular Biology\n",
            "The Department of Molecular Chemistry\n",
            "The Department of Physical Biology\n",
            "The Department of Physical Chemistry\n",
            "The Department of Physical Biology\n",
            "The Department of Physical Chemistry\n",
            "The Department of Quantitative Biology\n",
            "The Department of Quantitative Chemistry\n",
            "The Department of Quantitative Biology\n",
            "The Department of Quantitative Chemistry\n",
            "The Department of Computational Biology\n",
            "The Department of Computational Chemistry\n",
            "The Department of Computational Biology\n",
            "The Department of Computational Chemistry\n",
            "The Division of Molecular Biology\n",
            "The Division of Molecular Chemistry\n",
            "The Division of Molecular Biology\n",
            "The Division of Molecular Chemistry\n",
            "The Division of Physical Biology\n",
            "The Division of Physical Chemistry\n",
            "The Division of Physical Biology\n",
            "The Division of Physical Chemistry\n",
            "The Division of Quantitative Biology\n",
            "The Division of Quantitative Chemistry\n",
            "The Division of Quantitative Biology\n",
            "The Division of Quantitative Chemistry\n",
            "The Division of Computational Biology\n",
            "The Division of Computational Chemistry\n",
            "The Division of Computational Biology\n",
            "The Division of Computational Chemistry\n",
            "The Center for Molecular Biology\n",
            "The Center for Molecular Chemistry\n",
            "The Center for Molecular Biology\n",
            "The Center for Molecular Chemistry\n",
            "The Center for Physical Biology\n",
            "The Center for Physical Chemistry\n",
            "The Center for Physical Biology\n",
            "The Center for Physical Chemistry\n",
            "The Center for Quantitative Biology\n",
            "The Center for Quantitative Chemistry\n",
            "The Center for Quantitative Biology\n",
            "The Center for Quantitative Chemistry\n",
            "The Center for Computational Biology\n",
            "The Center for Computational Chemistry\n",
            "The Center for Computational Biology\n",
            "The Center for Computational Chemistry\n"
          ]
        }
      ],
      "source": [
        "# how many generic department names can we create?\n",
        "\n",
        "dept_titles = ['The Department of', 'The Division of', 'The Center for']\n",
        "dept_prefixes = ['Molecular', 'Physical', 'Quantitative', 'Computational']\n",
        "dept_suffixes = ['Biology', 'Chemistry', 'Biology', 'Chemistry']\n",
        "\n",
        "# The Department of Molecular Biology\n",
        "# The Department of Molecular Chemistry\n",
        "# ...\n",
        "\n",
        "### write your code below ###\n",
        "\n",
        "for title in dept_titles:\n",
        "    for prefix in dept_prefixes:\n",
        "        for suffix in dept_suffixes:\n",
        "            print(title, prefix, suffix)\n"
      ]
    },
    {
      "cell_type": "code",
      "execution_count": null,
      "metadata": {
        "id": "zs1CmVg_2c3y",
        "colab": {
          "base_uri": "https://localhost:8080/"
        },
        "outputId": "2a6e2bb1-640b-4d40-f715-84a98c643123"
      },
      "outputs": [
        {
          "output_type": "stream",
          "name": "stdout",
          "text": [
            "12\n"
          ]
        }
      ],
      "source": [
        "# tip: in python you can use the += operator to simultaneously add a value to\n",
        "# a variable and update the variable in place\n",
        "\n",
        "vowel_count = 0\n",
        "\n",
        "for char in 'The quick brown fox jumped over the lazy dog':\n",
        "    if char in 'aeiou':  # logic check for vowels\n",
        "        vowel_count += 1\n",
        "\n",
        "print(vowel_count)"
      ]
    },
    {
      "cell_type": "code",
      "execution_count": null,
      "metadata": {
        "id": "8zXGSB1cdhPv",
        "colab": {
          "base_uri": "https://localhost:8080/"
        },
        "outputId": "dded4ae3-a94b-4f4e-b1e1-dd507c0b183d"
      },
      "outputs": [
        {
          "output_type": "stream",
          "name": "stdout",
          "text": [
            "24.615384615384617\n",
            "29.230769230769234\n",
            "18.461538461538463\n",
            "27.692307692307693\n"
          ]
        }
      ],
      "source": [
        "sample_seq = 'TACGTAGCGTGGTCGCACAAGCACAGTAGATCCTCCCCGCGCATCCTATTTATTAAGTTAATTCT'\n",
        "\n",
        "### write your code below ###\n",
        "\n",
        "A_count = 0\n",
        "T_count = 0\n",
        "G_count = 0\n",
        "C_count = 0\n",
        "\n",
        "for nucleotide in sample_seq:\n",
        "    # some logic tracking if 'A', 'T', 'G', or 'C'\n",
        "    if nucleotide == 'A':\n",
        "        A_count += 1\n",
        "    elif nucleotide == 'T':\n",
        "        T_count += 1\n",
        "    elif nucleotide == 'G':\n",
        "        G_count += 1\n",
        "    elif nucleotide == 'C':\n",
        "        C_count += 1\n",
        "\n",
        "print(A_count / len(sample_seq) * 100)\n",
        "print(T_count / len(sample_seq) * 100)\n",
        "print(G_count / len(sample_seq) * 100)\n",
        "print(C_count / len(sample_seq) * 100)"
      ]
    },
    {
      "cell_type": "code",
      "execution_count": null,
      "metadata": {
        "id": "UyeDJjXqbBKm",
        "colab": {
          "base_uri": "https://localhost:8080/"
        },
        "outputId": "45e6744c-04df-477d-e5c6-c32fc569c266"
      },
      "outputs": [
        {
          "output_type": "stream",
          "name": "stdout",
          "text": [
            "The fizz-buzz number is 1\n",
            "The fizz-buzz number is 2\n",
            "fizz\n",
            "The fizz-buzz number is 3\n",
            "The fizz-buzz number is 4\n",
            "fizz\n",
            "The fizz-buzz number is 5\n",
            "buzz\n",
            "The fizz-buzz number is 6\n",
            "fizz\n",
            "The fizz-buzz number is 7\n",
            "The fizz-buzz number is 8\n",
            "fizz\n",
            "The fizz-buzz number is 9\n",
            "The fizz-buzz number is 10\n",
            "fizzbuzz\n"
          ]
        }
      ],
      "source": [
        "fb_numbers = [1, 2, 3, 4, 5, 6, 7, 8, 9, 10]\n",
        "\n",
        "# hints: refer to the numeric operations we learned about this morning\n",
        "#        the order of your conditionals matters\n",
        "\n",
        "### write your code below ###\n",
        "\n",
        "for num in fb_numbers:\n",
        "    print(\"The fizz-buzz number is\", num)\n",
        "\n",
        "    if num % 2 == 0 and num % 5 == 0:\n",
        "        print(\"fizzbuzz\")\n",
        "    elif num % 5 == 0:\n",
        "        print(\"buzz\")\n",
        "    elif num % 2 == 0:\n",
        "        print(\"fizz\")"
      ]
    },
    {
      "cell_type": "code",
      "execution_count": null,
      "metadata": {
        "id": "n08zIjmIe20u",
        "colab": {
          "base_uri": "https://localhost:8080/"
        },
        "outputId": "247268fe-ca42-4302-88b7-174d654d17d8"
      },
      "outputs": [
        {
          "output_type": "stream",
          "name": "stdout",
          "text": [
            "[5, 9, 2.3, 14, 3, 2, 10, 18]\n"
          ]
        }
      ],
      "source": [
        "num_list = [5, 9, 2.3, 14, 3, 2, 10]\n",
        "num_list.append(18)  # .append() adds a single value to the end of the list\n",
        "\n",
        "print(num_list)"
      ]
    },
    {
      "cell_type": "code",
      "source": [
        "# some_num = 6.0\n",
        "# some_num = str(some_num)"
      ],
      "metadata": {
        "id": "3n9Qbz-x2F2t"
      },
      "execution_count": null,
      "outputs": []
    },
    {
      "cell_type": "code",
      "execution_count": null,
      "metadata": {
        "id": "azKycLcYEWBR",
        "colab": {
          "base_uri": "https://localhost:8080/"
        },
        "outputId": "82eefc8a-a554-4344-af0a-7a9f60486c5a"
      },
      "outputs": [
        {
          "output_type": "stream",
          "name": "stdout",
          "text": [
            "Original list: [5, 9, 2.3, 14, 3, 2, 10]\n",
            "Extended: [5, 9, 2.3, 14, 3, 2, 10, 1, 1, 52, 4, 8, 0]\n",
            "Sorted: [0, 1, 1, 2, 2.3, 3, 4, 5, 8, 9, 10, 14, 52]\n",
            "Reversed: [52, 14, 10, 9, 8, 5, 4, 3, 2.3, 2, 1, 1, 0]\n",
            "Final version of list: [52, 14, 10, 9, 8, 5, 4, 3, 2.3, 2, 1, 1, 0]\n"
          ]
        }
      ],
      "source": [
        "# an example of chaining methods\n",
        "\n",
        "num_list = [5, 9, 2.3, 14, 3, 2, 10]\n",
        "print('Original list:', num_list)\n",
        "\n",
        "# use three methods, one after another\n",
        "num_list.extend([1, 1, 52, 4, 8, 0])\n",
        "print('Extended:', num_list)\n",
        "num_list.sort()\n",
        "print('Sorted:', num_list)\n",
        "num_list.reverse()\n",
        "print('Reversed:', num_list)\n",
        "\n",
        "print('Final version of list:', num_list)"
      ]
    },
    {
      "cell_type": "code",
      "execution_count": null,
      "metadata": {
        "id": "6TicDSpwjJPx",
        "colab": {
          "base_uri": "https://localhost:8080/"
        },
        "outputId": "c788c466-3ff1-482b-e723-0ff60f310a3f"
      },
      "outputs": [
        {
          "output_type": "stream",
          "name": "stdout",
          "text": [
            "[5, 9, 2.3, 14, 3, 2, 10]\n",
            "[10, 2, 3, 14, 2.3, 9, 5]\n",
            "[10, 2, 3, 14, 2.3, 9, 5, 1, 8, 1]\n",
            "[1, 1, 2, 2.3, 3, 5, 8, 9, 10, 14]\n",
            "[1, 1, 2, 3, 5, 8, 9, 10, 14]\n",
            "[1, 1, 2, 3, 5, 8, 9, 10, 14]\n"
          ]
        }
      ],
      "source": [
        "# try it out:\n",
        "# use print() to view the list at each step\n",
        "\n",
        "num_list = [5, 9, 2.3, 14, 3, 2, 10]\n",
        "print(num_list)\n",
        "\n",
        "# use .reverse() to reverse num_list\n",
        "\n",
        "num_list.reverse()\n",
        "print(num_list)\n",
        "\n",
        "# use .extend() to add [1, 8, 1] to the list\n",
        "\n",
        "num_list.extend([1, 8, 1])\n",
        "print(num_list)\n",
        "\n",
        "# use .sort() to sort num_list\n",
        "\n",
        "num_list.sort()\n",
        "print(num_list)\n",
        "\n",
        "# use .remove() to remove 2.3 from the list\n",
        "\n",
        "num_list.remove(2.3)\n",
        "print(num_list)\n",
        "\n",
        "# print the final version of num_list: is it what you expect?\n",
        "print(num_list)"
      ]
    },
    {
      "cell_type": "code",
      "execution_count": null,
      "metadata": {
        "id": "C-mCRSPRSc_u",
        "colab": {
          "base_uri": "https://localhost:8080/"
        },
        "outputId": "1ab7f77b-7642-4e9d-a07b-71e8ca8abd0e"
      },
      "outputs": [
        {
          "output_type": "stream",
          "name": "stdout",
          "text": [
            "2\n",
            "0\n"
          ]
        }
      ],
      "source": [
        "# try it out:\n",
        "\n",
        "# print the number of 1 (ones) that exist in num_list\n",
        "\n",
        "print(num_list.count(1))\n",
        "\n",
        "# print the index of the first instance of 1\n",
        "\n",
        "print(num_list.index(1))"
      ]
    },
    {
      "cell_type": "code",
      "execution_count": null,
      "metadata": {
        "id": "6tSk74PkoqfP"
      },
      "outputs": [],
      "source": [
        "# a very imaginary and very short mRNA string\n",
        "\n",
        "imaginary_seq = 'AGGCATTTAGCATGCATGTAACGATGCTGCGCGTTCA'"
      ]
    },
    {
      "cell_type": "code",
      "execution_count": null,
      "metadata": {
        "id": "35A5HtXiqp4k",
        "colab": {
          "base_uri": "https://localhost:8080/"
        },
        "outputId": "9641ba2d-406b-4cce-db61-48eb7ecaf976"
      },
      "outputs": [
        {
          "output_type": "stream",
          "name": "stdout",
          "text": [
            "T replaced with U: AGGCAUUUAGCAUGCAUGUAACGAUGCUGCGCGUUCA\n",
            "But imaginary_seq is *not* modified in place: AGGCATTTAGCATGCATGTAACGATGCTGCGCGTTCA\n"
          ]
        }
      ],
      "source": [
        "# let's start by replacing all the T's with U's\n",
        "# using .replace()\n",
        "\n",
        "# 'T' is the target, 'U' is the replacement\n",
        "print(f\"T replaced with U: {imaginary_seq.replace('T', 'U')}\")\n",
        "\n",
        "print(f\"But imaginary_seq is *not* modified in place: {imaginary_seq}\")  # checks the value of imaginary_seq"
      ]
    },
    {
      "cell_type": "code",
      "execution_count": null,
      "metadata": {
        "id": "xJYoH3aosXFj",
        "colab": {
          "base_uri": "https://localhost:8080/"
        },
        "outputId": "763ca672-c41a-49b4-f931-f9611e900b9a"
      },
      "outputs": [
        {
          "output_type": "stream",
          "name": "stdout",
          "text": [
            "Once imaginary_seq is updated: AGGCAUUUAGCAUGCAUGUAACGAUGCUGCGCGUUCA\n"
          ]
        }
      ],
      "source": [
        "# we have to *manually* update imaginary_seq if we want the string saved\n",
        "\n",
        "imaginary_seq = imaginary_seq.replace('T', 'U')\n",
        "print(f'Once imaginary_seq is updated: {imaginary_seq}')"
      ]
    },
    {
      "cell_type": "code",
      "execution_count": null,
      "metadata": {
        "id": "bZ4ACPHyueFa",
        "colab": {
          "base_uri": "https://localhost:8080/"
        },
        "outputId": "0018c5a8-7151-4755-9403-eb4390d9c703"
      },
      "outputs": [
        {
          "output_type": "execute_result",
          "data": {
            "text/plain": [
              "11"
            ]
          },
          "metadata": {},
          "execution_count": 44
        }
      ],
      "source": [
        "# next, let's try to see if there are any start codons (AUG) in this sequence\n",
        "# using .find()\n",
        "\n",
        "imaginary_seq.find('AUG')  # if no AUG exists, it'll return -1"
      ]
    },
    {
      "cell_type": "code",
      "execution_count": null,
      "metadata": {
        "id": "uPNLxNHHq98s",
        "colab": {
          "base_uri": "https://localhost:8080/"
        },
        "outputId": "fcc74b1d-f8a7-4752-e331-5e5aa5c62a87"
      },
      "outputs": [
        {
          "output_type": "stream",
          "name": "stdout",
          "text": [
            "There are 3 instances of AUG.\n"
          ]
        }
      ],
      "source": [
        "# now that we know that at least one start codon exists\n",
        "# let's count how many instances there are\n",
        "# using .count()\n",
        "\n",
        "print(f\"There are {imaginary_seq.count('AUG')} instances of AUG.\")"
      ]
    },
    {
      "cell_type": "code",
      "execution_count": null,
      "metadata": {
        "id": "k3y_e6aUsk_b",
        "colab": {
          "base_uri": "https://localhost:8080/"
        },
        "outputId": "105911f3-3c16-4bf5-a76d-a45a7efbc96d"
      },
      "outputs": [
        {
          "output_type": "stream",
          "name": "stdout",
          "text": [
            "Substrings after splitting: ['AGGCAUUUAGC', 'C', 'UAACG', 'CUGCGCGUUCA']\n",
            "imaginary_seq is not modified in place: AGGCAUUUAGCAUGCAUGUAACGAUGCUGCGCGUUCA\n"
          ]
        }
      ],
      "source": [
        "# we can break apart the sequence at each instance of AUG\n",
        "# using .split()\n",
        "\n",
        "split_seqs = imaginary_seq.split('AUG')\n",
        "print(f\"Substrings after splitting: {split_seqs}\")\n",
        "print(f\"imaginary_seq is not modified in place: {imaginary_seq}\")"
      ]
    },
    {
      "cell_type": "code",
      "execution_count": null,
      "metadata": {
        "id": "lZ6jVeGLtETw",
        "colab": {
          "base_uri": "https://localhost:8080/"
        },
        "outputId": "0667cbd9-f2e7-4f3e-a003-30a55f798f8e"
      },
      "outputs": [
        {
          "output_type": "stream",
          "name": "stdout",
          "text": [
            "After joining: AGGCAUUUAGCAUGCAUGUAACGAUGCUGCGCGUUCA\n"
          ]
        }
      ],
      "source": [
        "# we can also reconstruct the sequence, joining the strings in split_seqs\n",
        "# together, using AUG as our \"connector\" string\n",
        "# using .join()\n",
        "\n",
        "reconstructed_seq = 'AUG'.join(split_seqs)\n",
        "\n",
        "# syntax note: .join() is a method for *strings*\n",
        "# that means that the target of .join() must be a string\n",
        "# split_seqs is a list, which means that 'AUG' must be our target\n",
        "\n",
        "print('After joining:', reconstructed_seq)"
      ]
    },
    {
      "cell_type": "code",
      "execution_count": null,
      "metadata": {
        "id": "_F0-Eg01yMVV",
        "colab": {
          "base_uri": "https://localhost:8080/"
        },
        "outputId": "0cfba41a-cdaf-4a70-bb01-866c4dcb6cf6"
      },
      "outputs": [
        {
          "output_type": "execute_result",
          "data": {
            "text/plain": [
              "True"
            ]
          },
          "metadata": {},
          "execution_count": 48
        }
      ],
      "source": [
        "# try it out:\n",
        "# use a logic check to see if reconstructed_seq is the same as imaginary_seq\n",
        "\n",
        "reconstructed_seq == imaginary_seq"
      ]
    },
    {
      "cell_type": "code",
      "execution_count": null,
      "metadata": {
        "id": "8JOFUn94wILL",
        "colab": {
          "base_uri": "https://localhost:8080/"
        },
        "outputId": "3bf06d44-fc83-40e0-c2b9-a9c5dda647d2"
      },
      "outputs": [
        {
          "output_type": "stream",
          "name": "stdout",
          "text": [
            "Number of 'CAT's in imaginary_seq 3\n",
            "Number of 'CAT's in catless 1\n"
          ]
        }
      ],
      "source": [
        "# resetting our strings:\n",
        "imaginary_seq = 'AGGCATTTAGCATGCATGTAACGATGCTGCGCGTTCA'\n",
        "catless = 'AGGGGTAACGATGCTGCGCGTTCATTAG'\n",
        "\n",
        "# try it out:\n",
        "# count each instance of the substring 'CAT'\n",
        "\n",
        "print(\"Number of 'CAT's in imaginary_seq\", imaginary_seq.count(\"CAT\"))\n",
        "print(\"Number of 'CAT's in catless\", catless.count(\"CAT\"))\n"
      ]
    },
    {
      "cell_type": "code",
      "execution_count": null,
      "metadata": {
        "id": "H8ctkFzKGff0",
        "colab": {
          "base_uri": "https://localhost:8080/"
        },
        "outputId": "511e9ba5-8de2-4dd1-9a42-a5b11387592c"
      },
      "outputs": [
        {
          "output_type": "execute_result",
          "data": {
            "text/plain": [
              "['AGG', 'TTAG', 'G', 'GTAACGATGCTGCGCGTTCA']"
            ]
          },
          "metadata": {},
          "execution_count": 50
        }
      ],
      "source": [
        "# try it out:\n",
        "# split imaginary_seq at each instance of 'CAT'\n",
        "# and save the resultant list to a variable called imaginary_cats\n",
        "\n",
        "imaginary_cats = imaginary_seq.split(\"CAT\")\n",
        "imaginary_cats"
      ]
    },
    {
      "cell_type": "code",
      "execution_count": null,
      "metadata": {
        "id": "PbIzTe_LGi3H",
        "colab": {
          "base_uri": "https://localhost:8080/"
        },
        "outputId": "3173595f-9843-4f09-b578-cfc20466eb09"
      },
      "outputs": [
        {
          "output_type": "execute_result",
          "data": {
            "text/plain": [
              "['AGG', 'G', 'GTAACGATGCTGCGCGTTCA', 'TTAG']"
            ]
          },
          "metadata": {},
          "execution_count": 51
        }
      ],
      "source": [
        "# try it out:\n",
        "# sort imaginary_cats alphabetically\n",
        "# (this will require a method for lists, not strings!)\n",
        "\n",
        "imaginary_cats.sort()\n",
        "imaginary_cats"
      ]
    },
    {
      "cell_type": "code",
      "execution_count": null,
      "metadata": {
        "id": "vmzo7UMNGkTB",
        "colab": {
          "base_uri": "https://localhost:8080/",
          "height": 56
        },
        "outputId": "0f7909a0-a4a9-4fdd-f5a6-17abe10a4832"
      },
      "outputs": [
        {
          "output_type": "execute_result",
          "data": {
            "text/plain": [
              "'AGGGGTAACGATGCTGCGCGTTCATTAG'"
            ],
            "application/vnd.google.colaboratory.intrinsic+json": {
              "type": "string"
            }
          },
          "metadata": {},
          "execution_count": 53
        }
      ],
      "source": [
        "# try it out:\n",
        "# join imaginary_cats using an *empty* string ('')\n",
        "# and save the result in a variable called no_cats\n",
        "\n",
        "no_cats = ''.join(imaginary_cats)\n",
        "no_cats"
      ]
    },
    {
      "cell_type": "code",
      "execution_count": null,
      "metadata": {
        "id": "5Uarsx2AGlDH",
        "colab": {
          "base_uri": "https://localhost:8080/"
        },
        "outputId": "eb67c5ee-a9f1-4086-a7a2-6821c9d68e1a"
      },
      "outputs": [
        {
          "output_type": "stream",
          "name": "stdout",
          "text": [
            "No cats!\n"
          ]
        }
      ],
      "source": [
        "# try it out:\n",
        "# let's mix in some control flow and logic checks:\n",
        "# 1) check if no_cats is equal to catless\n",
        "# 2) if no cats is equal to catless, print the string \"No cats!\"\n",
        "\n",
        "if no_cats == catless:\n",
        "    print(\"No cats!\")"
      ]
    },
    {
      "cell_type": "code",
      "execution_count": null,
      "metadata": {
        "id": "OgObLzFcD5yR"
      },
      "outputs": [],
      "source": [
        "def sum_then_square(a, b):\n",
        "    # This function will coerce a and b to floats, sum the numbers a and b, then square the sum.\n",
        "    a = float(a)\n",
        "    b = float(b)\n",
        "    squared_sum = (a + b)**2\n",
        "    print(squared_sum)"
      ]
    },
    {
      "cell_type": "code",
      "execution_count": null,
      "metadata": {
        "id": "rHhQk6mpKIF0",
        "colab": {
          "base_uri": "https://localhost:8080/"
        },
        "outputId": "cc0df56a-4d3d-43d3-b803-ecdd0b42441b"
      },
      "outputs": [
        {
          "output_type": "stream",
          "name": "stdout",
          "text": [
            "49.0\n"
          ]
        }
      ],
      "source": [
        "# try it out:\n",
        "# run the function sum_then_square with 2 and 5\n",
        "\n",
        "sum_then_square(2, 5)"
      ]
    },
    {
      "cell_type": "code",
      "execution_count": null,
      "metadata": {
        "id": "Ais_DRNjE55H",
        "colab": {
          "base_uri": "https://localhost:8080/"
        },
        "outputId": "9b1f2b03-f5f1-4887-dd7c-54d83d33b9c7"
      },
      "outputs": [
        {
          "output_type": "stream",
          "name": "stdout",
          "text": [
            "49.0\n",
            "None\n"
          ]
        }
      ],
      "source": [
        "# try it out:\n",
        "# save the output of sum_then_square(2, 5) to a variable called summed_square\n",
        "# then print the value of summed_square\n",
        "\n",
        "summed_square = sum_then_square(2, 5)\n",
        "print(summed_square)"
      ]
    },
    {
      "cell_type": "code",
      "execution_count": null,
      "metadata": {
        "id": "c0P9coDfAFD3",
        "colab": {
          "base_uri": "https://localhost:8080/"
        },
        "outputId": "60d37845-4288-46b1-c801-f5b493f09062"
      },
      "outputs": [
        {
          "output_type": "stream",
          "name": "stdout",
          "text": [
            "What happens with a nested print?\n",
            "None\n"
          ]
        }
      ],
      "source": [
        "print(print(\"What happens with a nested print?\"))"
      ]
    },
    {
      "cell_type": "code",
      "execution_count": null,
      "metadata": {
        "id": "MfrgDdl_Fv2i"
      },
      "outputs": [],
      "source": [
        "# we can update functions by re-defining them, just like updating a variable by re-assigning it\n",
        "\n",
        "def sum_then_square(a, b):\n",
        "    # This function will coerce a and b to floats, sum the numbers a and b, then square the sum.\n",
        "    a = float(a)\n",
        "    b = float(b)\n",
        "    squared_sum = (a + b)**2\n",
        "    print(squared_sum)\n",
        "    return squared_sum"
      ]
    },
    {
      "cell_type": "code",
      "execution_count": null,
      "metadata": {
        "id": "J68SgYACEsxd",
        "colab": {
          "base_uri": "https://localhost:8080/"
        },
        "outputId": "a716e018-5bcd-452b-a12f-5eba86c20d22"
      },
      "outputs": [
        {
          "output_type": "stream",
          "name": "stdout",
          "text": [
            "49.0\n",
            "49.0\n"
          ]
        }
      ],
      "source": [
        "# try it out:\n",
        "# save the output of sum_then_square(2, 5) to a variable called summed_square\n",
        "# then print the value of summed_square\n",
        "# you can use the same code as you did before!\n",
        "\n",
        "summed_square = sum_then_square(2, 5)\n",
        "print(summed_square)"
      ]
    },
    {
      "cell_type": "code",
      "execution_count": null,
      "metadata": {
        "id": "eoL6bEGd6A0O",
        "colab": {
          "base_uri": "https://localhost:8080/"
        },
        "outputId": "d5857c20-1398-4b41-af15-2e9d292c6de4"
      },
      "outputs": [
        {
          "output_type": "stream",
          "name": "stdout",
          "text": [
            "String A is 9 characters long.\n",
            "String B is 11 characters long.\n",
            "String C is 7 characters long.\n",
            "The actual saved value of shortest was:  AATGATC\n"
          ]
        }
      ],
      "source": [
        "# try it out:\n",
        "# 1) run this cell to see the error message\n",
        "# 2) correct the error(s) to generate the desired output (see above)\n",
        "\n",
        "def min_seq(a, b, c):\n",
        "    # Takes three string sequences and returns the shortest sequence in the trio.\n",
        "\n",
        "    print(f'String A is {len(a)} characters long.')\n",
        "    print(f'String B is {len(b)} characters long.')\n",
        "    print(f'String C is {len(c)} characters long.')\n",
        "\n",
        "    # find the shortest length of all sequences\n",
        "    lengths = [len(a), len(b), len(c)]\n",
        "    shortest_length = int(min(lengths))\n",
        "\n",
        "    # return the sequence with the shortest length\n",
        "    if len(a) == shortest_length:\n",
        "        return a\n",
        "    elif len(b) == shortest_length:\n",
        "        return b\n",
        "    elif len(c) == shortest_length:\n",
        "        return c\n",
        "    else:\n",
        "        return None\n",
        "\n",
        "### do not modify below ###\n",
        "shortest = min_seq('TAGGATGAA', 'TTATAGCTACG', 'AATGATC')\n",
        "print('The actual saved value of shortest was: ', shortest)\n",
        "### do not modify above ###"
      ]
    },
    {
      "cell_type": "code",
      "execution_count": null,
      "metadata": {
        "id": "V47-OTt1YVWz",
        "colab": {
          "base_uri": "https://localhost:8080/"
        },
        "outputId": "b122292b-7a1d-4f80-b6ff-470e61a903db"
      },
      "outputs": [
        {
          "output_type": "execute_result",
          "data": {
            "text/plain": [
              "[['A0', 'A1', 'A2', 'A3', 'A4', 'A5', 'A6', 'A7', 'A8', 'A9'],\n",
              " ['B0', 'B1', 'B2', 'B3', 'B4', 'B5', 'B6', 'B7', 'B8', 'B9'],\n",
              " ['C0', 'C1', 'C2', 'C3', 'C4', 'C5', 'C6', 'C7', 'C8', 'C9']]"
            ]
          },
          "metadata": {},
          "execution_count": 66
        }
      ],
      "source": [
        "# edit the skeleton code below to create a nested list called nested_plate\n",
        "# that contains one list for each row\n",
        "\n",
        "nested_plate = []  # an empty list: append lists to this to create a nested list\n",
        "\n",
        "rows = ['A','B','C']\n",
        "columns = list(range(10))\n",
        "\n",
        "for row in rows:  # loop through rows\n",
        "\tsub_row = []\n",
        "\tfor col in columns:  # loop through columns\n",
        "\t\tsub_row.append(row + str(col))  # build up the sub_row\n",
        "\tnested_plate.append(sub_row)  # build up the full plate\n",
        "\n",
        "nested_plate"
      ]
    },
    {
      "cell_type": "code",
      "source": [
        "### Solution ###\n"
      ],
      "metadata": {
        "id": "3DGvcB49a8Is"
      },
      "execution_count": null,
      "outputs": []
    },
    {
      "cell_type": "code",
      "execution_count": null,
      "metadata": {
        "id": "mi9auQta-c44",
        "colab": {
          "base_uri": "https://localhost:8080/"
        },
        "outputId": "e362078a-b246-4331-a131-eb0b3b0d88d7"
      },
      "outputs": [
        {
          "output_type": "stream",
          "name": "stdout",
          "text": [
            "The mean value is 6.471428571428571\n"
          ]
        },
        {
          "output_type": "execute_result",
          "data": {
            "text/plain": [
              "6.471428571428571"
            ]
          },
          "metadata": {},
          "execution_count": 67
        }
      ],
      "source": [
        "num_list = [5, 9, 2.3, 14, 3, 2, 10]\n",
        "\n",
        "# hints:\n",
        "# 1. you can use sum() to add all elements in a list\n",
        "# 2. you can use len() to determine the length of an object with multiple elements\n",
        "# 3. remember that you can print multiple things with one print() call\n",
        "#    just separate your inputs with commas!\n",
        "\n",
        "### write your code below ###\n",
        "def list_mean(my_list):\n",
        "    list_sum = sum(my_list)\n",
        "    list_mean = list_sum / len(my_list)\n",
        "    print(\"The mean value is\", list_mean)\n",
        "    return list_mean\n",
        "\n",
        "list_mean(num_list)"
      ]
    },
    {
      "cell_type": "code",
      "execution_count": null,
      "metadata": {
        "id": "k71IVhOZmpXF"
      },
      "outputs": [],
      "source": [
        "# hints:\n",
        "# the median index can be found using the formula ((n+1)/2)-1\n",
        "# the extra -1 accounts for zero-indexing :)\n",
        "\n",
        "num_list = [5, 9, 2.3, 14, 3, 2, 10]\n",
        "\n",
        "### write your code below ###\n",
        "\n",
        "def list_median(my_list):\n",
        "    my_list.sort()\n",
        "    n = len(my_list)\n",
        "    median_value = my_list[int(((n+1)/2)-1)]\n",
        "    print(\"The median value is\", median_value)\n",
        "    return median_value"
      ]
    },
    {
      "cell_type": "code",
      "source": [
        "list_median(num_list)"
      ],
      "metadata": {
        "colab": {
          "base_uri": "https://localhost:8080/"
        },
        "id": "c2o6LgMvBtRF",
        "outputId": "745713e8-88c2-46ee-cb11-98de7c9e669f"
      },
      "execution_count": null,
      "outputs": [
        {
          "output_type": "stream",
          "name": "stdout",
          "text": [
            "The median value is 5\n"
          ]
        },
        {
          "output_type": "execute_result",
          "data": {
            "text/plain": [
              "5"
            ]
          },
          "metadata": {},
          "execution_count": 69
        }
      ]
    },
    {
      "cell_type": "code",
      "execution_count": null,
      "metadata": {
        "id": "fCkatzUY07y3",
        "colab": {
          "base_uri": "https://localhost:8080/"
        },
        "outputId": "66ce3162-4789-4cff-e222-5e49b5b1710d"
      },
      "outputs": [
        {
          "output_type": "stream",
          "name": "stdout",
          "text": [
            "The median value is 4\n",
            "The median value is 7\n",
            "The median value is 6.8\n"
          ]
        }
      ],
      "source": [
        "nested_nums = [[8, 4, 2], [7, 21, -3], [6.8, 3, 9]]\n",
        "\n",
        "### write your code below ###\n",
        "\n",
        "for some_list in nested_nums:\n",
        "    list_median(some_list)"
      ]
    },
    {
      "cell_type": "code",
      "execution_count": null,
      "metadata": {
        "id": "2kNJKudkRh4O",
        "colab": {
          "base_uri": "https://localhost:8080/"
        },
        "outputId": "c74a17c0-26fa-4468-a105-37899d60aaa3"
      },
      "outputs": [
        {
          "output_type": "stream",
          "name": "stdout",
          "text": [
            "The tuple: (5, 0, 9.2, 8, 0)\n",
            "5\n",
            "0\n"
          ]
        }
      ],
      "source": [
        "num_tuple = (5, 0, 9.2, 8, 0)  # tuples are defined using parentheses\n",
        "print('The tuple:', num_tuple)\n",
        "\n",
        "print(num_tuple[0])  # first element\n",
        "print(num_tuple[-1])  # last element"
      ]
    },
    {
      "cell_type": "code",
      "execution_count": null,
      "metadata": {
        "id": "6Y6xH_CoWuzC",
        "colab": {
          "base_uri": "https://localhost:8080/"
        },
        "outputId": "44ec4047-c4d4-4548-d225-afa3a11b2ad8"
      },
      "outputs": [
        {
          "output_type": "stream",
          "name": "stdout",
          "text": [
            "Output is in order: length, median, mean\n",
            "The median value is 5\n",
            "The mean value is 6.471428571428571\n"
          ]
        },
        {
          "output_type": "execute_result",
          "data": {
            "text/plain": [
              "(7, 5, 6.471428571428571)"
            ]
          },
          "metadata": {},
          "execution_count": 72
        }
      ],
      "source": [
        "def summarize_tuple(input_list):\n",
        "    # A function that will take a list of numerics return three key summary values:\n",
        "    # 1. The length\n",
        "    # 2. The median\n",
        "    # 3. The mean\n",
        "    print('Output is in order: length, median, mean')\n",
        "\n",
        "    return len(input_list), list_median(input_list), list_mean(input_list)\n",
        "\n",
        "summarize_tuple(num_list)"
      ]
    },
    {
      "cell_type": "code",
      "execution_count": null,
      "metadata": {
        "id": "BCkdY6P7MErD",
        "colab": {
          "base_uri": "https://localhost:8080/"
        },
        "outputId": "623c4b7a-508f-4f6d-d426-0e2db134cdcb"
      },
      "outputs": [
        {
          "output_type": "stream",
          "name": "stdout",
          "text": [
            "Output is in order: length, median, mean\n",
            "The median value is 5\n",
            "The mean value is 6.471428571428571\n"
          ]
        }
      ],
      "source": [
        "out = summarize_tuple(num_list)"
      ]
    },
    {
      "cell_type": "code",
      "execution_count": null,
      "metadata": {
        "id": "eyjT0H4dL-C2",
        "colab": {
          "base_uri": "https://localhost:8080/"
        },
        "outputId": "04fb5180-54d4-466d-8b62-1a67bc3d3c19"
      },
      "outputs": [
        {
          "output_type": "stream",
          "name": "stdout",
          "text": [
            "<class 'tuple'>\n",
            "(7, 5, 6.471428571428571)\n"
          ]
        }
      ],
      "source": [
        "print(type(out))  # as promised, the output of elements from a function is a tuple by default\n",
        "print(out)"
      ]
    },
    {
      "cell_type": "code",
      "execution_count": null,
      "metadata": {
        "id": "Iu8FkA3vgeUH",
        "colab": {
          "base_uri": "https://localhost:8080/"
        },
        "outputId": "1947d67e-302c-4f7c-b7a3-6723b96bc225"
      },
      "outputs": [
        {
          "output_type": "stream",
          "name": "stdout",
          "text": [
            "{'apple', 'grapes', 'eggs', 'milk', 'salmon', 'bread'}\n",
            "<class 'set'>\n"
          ]
        }
      ],
      "source": [
        "# Method 1: Create a set using curly brackets\n",
        "groceries = {'grapes', 'milk', 'eggs', 'apple', 'salmon', 'bread'}  # initalized with curly brackets\n",
        "\n",
        "print(groceries)\n",
        "print(type(groceries))"
      ]
    },
    {
      "cell_type": "code",
      "execution_count": null,
      "metadata": {
        "id": "wKfnA_owFX9U",
        "colab": {
          "base_uri": "https://localhost:8080/"
        },
        "outputId": "b7eb3522-d7ef-4d0d-90d4-8f8b03e61945"
      },
      "outputs": [
        {
          "output_type": "stream",
          "name": "stdout",
          "text": [
            "The original tuple: ('apple', 'orange', 'banana', 'apple', 'grapes', 'orange')\n",
            "The coerced set: {'banana', 'apple', 'grapes', 'orange'}\n"
          ]
        }
      ],
      "source": [
        "# Method 2: Create a set from an existing object\n",
        "\n",
        "# example: tuple with duplicate elements\n",
        "fruit = ('apple', 'orange', 'banana', 'apple', 'grapes', 'orange')\n",
        "print('The original tuple:', fruit)\n",
        "print('The coerced set:', set(fruit))  # duplicate values dropped\n"
      ]
    },
    {
      "cell_type": "code",
      "execution_count": null,
      "metadata": {
        "id": "h4kMQI1DMm43",
        "colab": {
          "base_uri": "https://localhost:8080/"
        },
        "outputId": "1e58e9f2-628a-456c-c8be-8b86e0f0c0c4"
      },
      "outputs": [
        {
          "output_type": "stream",
          "name": "stdout",
          "text": [
            "Turning a single string into a set: {'a', 'l', 'p', 'e'}\n"
          ]
        }
      ],
      "source": [
        "# Coercing a single string into a set yields interesting results...\n",
        "print('Turning a single string into a set:', set('apple'))"
      ]
    },
    {
      "cell_type": "code",
      "execution_count": null,
      "metadata": {
        "id": "PJqvS_49uuSk",
        "colab": {
          "base_uri": "https://localhost:8080/"
        },
        "outputId": "f04efae1-fdd5-49d6-cebb-c4f677afea74"
      },
      "outputs": [
        {
          "output_type": "execute_result",
          "data": {
            "text/plain": [
              "{'eIF1': 'initiation factor',\n",
              " 'eIF3': 'initiation factor',\n",
              " 'eIF4': 'initiation factor',\n",
              " 'eIF5': 'initiation factor',\n",
              " 'eRF1': 'release factor',\n",
              " 'eRF3': 'release factor'}"
            ]
          },
          "metadata": {},
          "execution_count": 78
        }
      ],
      "source": [
        "# Method 1: defining a dictionary from scratch\n",
        "# dictionaries are defined using curly brackets, like sets\n",
        "# each key-value pair is defined as key: value\n",
        "\n",
        "eukaryotic_dict = {\n",
        "    'eIF1': 'initiation factor',\n",
        "    'eIF3': 'initiation factor',\n",
        "    'eIF4': 'initiation factor',\n",
        "    'eIF5': 'initiation factor',\n",
        "    'eRF1': 'release factor',\n",
        "    'eRF3': 'release factor'\n",
        "}\n",
        "\n",
        "eukaryotic_dict"
      ]
    },
    {
      "cell_type": "code",
      "execution_count": null,
      "metadata": {
        "id": "zC5erzGq7Lgq",
        "colab": {
          "base_uri": "https://localhost:8080/"
        },
        "outputId": "66a3cfd4-4032-4f18-ca3c-28a0a97557da"
      },
      "outputs": [
        {
          "output_type": "execute_result",
          "data": {
            "text/plain": [
              "{'eIF1': 'initiation factor',\n",
              " 'eRF1': 'release factor',\n",
              " 'eRF3': 'release factor',\n",
              " 'eIF3': 'initiation factor',\n",
              " 'eIF4': 'initiation factor',\n",
              " 'eIF5': 'initiation factor'}"
            ]
          },
          "metadata": {},
          "execution_count": 79
        }
      ],
      "source": [
        "# Method 2: defining a dictionary from existing lists\n",
        "# zip()` pairs the lists together\n",
        "# `dict()` coerces the paired lists into a dictionary\n",
        "\n",
        "eukaryotic_genes = [\n",
        "    'eIF1',\n",
        "    'eRF1',\n",
        "    'eRF3',\n",
        "    'eIF3',\n",
        "    'eIF4',\n",
        "    'eIF5'\n",
        "]  # gene names\n",
        "\n",
        "eukaryotic_desc = [\n",
        "    'initiation factor',\n",
        "    'release factor',\n",
        "    'release factor',\n",
        "    'initiation factor',\n",
        "    'initiation factor',\n",
        "    'initiation factor'\n",
        "]  # gene descriptions\n",
        "\n",
        "eukaryotic_dict = dict(zip(eukaryotic_genes, eukaryotic_desc))\n",
        "eukaryotic_dict"
      ]
    },
    {
      "cell_type": "code",
      "execution_count": null,
      "metadata": {
        "id": "08TD-lFSxJuy",
        "colab": {
          "base_uri": "https://localhost:8080/"
        },
        "outputId": "85aa3882-292b-4937-b9d2-5415cb1962eb"
      },
      "outputs": [
        {
          "output_type": "stream",
          "name": "stdout",
          "text": [
            "initiation factor\n"
          ]
        }
      ],
      "source": [
        "# using eIF3 as the key index will return the associated value\n",
        "print(eukaryotic_dict['eIF3'])"
      ]
    },
    {
      "cell_type": "code",
      "execution_count": null,
      "metadata": {
        "id": "q4GrNKFsWV14",
        "colab": {
          "base_uri": "https://localhost:8080/"
        },
        "outputId": "3eee9fba-fec0-4fcd-fe16-3ebcefb66bf8"
      },
      "outputs": [
        {
          "output_type": "stream",
          "name": "stdout",
          "text": [
            "After eIF5B is added:\n"
          ]
        },
        {
          "output_type": "execute_result",
          "data": {
            "text/plain": [
              "{'eIF1': 'initiation factor',\n",
              " 'eRF1': 'release factor',\n",
              " 'eRF3': 'release factor',\n",
              " 'eIF3': 'initiation factor',\n",
              " 'eIF4': 'initiation factor',\n",
              " 'eIF5': 'initiation factor',\n",
              " 'eIF5B': 'initiation factor'}"
            ]
          },
          "metadata": {},
          "execution_count": 81
        }
      ],
      "source": [
        "# Using explicit assignment to add a single key-value pair\n",
        "eukaryotic_dict['eIF5B'] = 'initiation factor'\n",
        "print('After eIF5B is added:')\n",
        "eukaryotic_dict"
      ]
    },
    {
      "cell_type": "code",
      "execution_count": null,
      "metadata": {
        "id": "Gu05WV5HuqGT",
        "colab": {
          "base_uri": "https://localhost:8080/"
        },
        "outputId": "c07be0b5-27e5-4cb8-e841-99fa0a9bd7d8"
      },
      "outputs": [
        {
          "output_type": "stream",
          "name": "stdout",
          "text": [
            "After multiple entries are added:\n"
          ]
        },
        {
          "output_type": "execute_result",
          "data": {
            "text/plain": [
              "{'eIF1': 'initiation factor',\n",
              " 'eRF1': 'release factor',\n",
              " 'eRF3': 'release factor',\n",
              " 'eIF3': 'initiation factor',\n",
              " 'eIF4': 'initiation factor',\n",
              " 'eIF5': 'initiation factor',\n",
              " 'eIF5B': 'initiation factor',\n",
              " 'eIF6': 'initiation factor',\n",
              " 'eEF1': 'elongation factor',\n",
              " 'eEF2': 'elongation factor'}"
            ]
          },
          "metadata": {},
          "execution_count": 82
        }
      ],
      "source": [
        "# Using .update() to add multiple key-value pairs\n",
        "more_genes = {\n",
        "    'eIF6': 'initiation factor',\n",
        "    'eEF1': 'elongation factor',\n",
        "    'eEF2': 'elongation factor',\n",
        "    'eRF1': 'release factor',\n",
        "    'eRF3': 'release factor'\n",
        "}  # a new dictionary with more entries\n",
        "\n",
        "eukaryotic_dict.update(more_genes) # updates the dict in place\n",
        "print('After multiple entries are added:')\n",
        "eukaryotic_dict\n"
      ]
    },
    {
      "cell_type": "code",
      "execution_count": null,
      "metadata": {
        "id": "phb0Kecoz6Wi",
        "colab": {
          "base_uri": "https://localhost:8080/"
        },
        "outputId": "12b03fcf-01b2-4581-cabd-0ebb4286d7d5"
      },
      "outputs": [
        {
          "output_type": "stream",
          "name": "stdout",
          "text": [
            "The .keys() iterable object:\n",
            "dict_keys(['eIF1', 'eRF1', 'eRF3', 'eIF3', 'eIF4', 'eIF5', 'eIF5B', 'eIF6', 'eEF1', 'eEF2'])\n"
          ]
        }
      ],
      "source": [
        "print('The .keys() iterable object:')\n",
        "print(eukaryotic_dict.keys())\n"
      ]
    },
    {
      "cell_type": "code",
      "execution_count": null,
      "metadata": {
        "id": "oeTrn5X3PSly",
        "colab": {
          "base_uri": "https://localhost:8080/"
        },
        "outputId": "5e1b230b-5aba-446f-e6cc-ae8d87de74cf"
      },
      "outputs": [
        {
          "output_type": "stream",
          "name": "stdout",
          "text": [
            "We can use the iterable in a loop:\n",
            "The key eIF1 is a <class 'str'>\n",
            "The key eRF1 is a <class 'str'>\n",
            "The key eRF3 is a <class 'str'>\n",
            "The key eIF3 is a <class 'str'>\n",
            "The key eIF4 is a <class 'str'>\n",
            "The key eIF5 is a <class 'str'>\n",
            "The key eIF5B is a <class 'str'>\n",
            "The key eIF6 is a <class 'str'>\n",
            "The key eEF1 is a <class 'str'>\n",
            "The key eEF2 is a <class 'str'>\n"
          ]
        }
      ],
      "source": [
        "print('We can use the iterable in a loop:')\n",
        "for key in eukaryotic_dict.keys():\n",
        "  print(f'The key {key} is a {type(key)}')"
      ]
    },
    {
      "cell_type": "code",
      "execution_count": null,
      "metadata": {
        "id": "ZWA_FE38c28o",
        "colab": {
          "base_uri": "https://localhost:8080/",
          "height": 56
        },
        "outputId": "ff2d0f78-6cb8-488b-aa49-e0e787123a66"
      },
      "outputs": [
        {
          "output_type": "execute_result",
          "data": {
            "text/plain": [
              "'eIF1'"
            ],
            "application/vnd.google.colaboratory.intrinsic+json": {
              "type": "string"
            }
          },
          "metadata": {},
          "execution_count": 87
        }
      ],
      "source": [
        "# try it out:\n",
        "# coerce the generic iterable generated by .keys() into a structure\n",
        "# that supports indexing, then see if you can access index 0\n",
        "\n",
        "list(eukaryotic_dict.keys())[0]\n",
        "tuple(eukaryotic_dict.keys())[0]"
      ]
    },
    {
      "cell_type": "code",
      "source": [
        "eukaryotic_dict.items()"
      ],
      "metadata": {
        "colab": {
          "base_uri": "https://localhost:8080/"
        },
        "id": "ZsNyyJkwGylo",
        "outputId": "53ac9ac4-a032-464d-ca7e-47fd28ab2352"
      },
      "execution_count": null,
      "outputs": [
        {
          "output_type": "execute_result",
          "data": {
            "text/plain": [
              "dict_items([('eIF1', 'initiation factor'), ('eRF1', 'release factor'), ('eRF3', 'release factor'), ('eIF3', 'initiation factor'), ('eIF4', 'initiation factor'), ('eIF5', 'initiation factor'), ('eIF5B', 'initiation factor'), ('eIF6', 'initiation factor'), ('eEF1', 'elongation factor'), ('eEF2', 'elongation factor')])"
            ]
          },
          "metadata": {},
          "execution_count": 89
        }
      ]
    },
    {
      "cell_type": "code",
      "source": [
        "# or even more streamlined way of doing this (not as understandable)\n",
        "dict_keys_list = list(eukaryotic_dict.items())\n",
        "\n",
        "print(dict_keys_list[0])\n"
      ],
      "metadata": {
        "id": "bakFYa6TePF5",
        "colab": {
          "base_uri": "https://localhost:8080/"
        },
        "outputId": "c251d479-928f-4cde-88d8-ce508f352aef"
      },
      "execution_count": null,
      "outputs": [
        {
          "output_type": "stream",
          "name": "stdout",
          "text": [
            "('eIF1', 'initiation factor')\n"
          ]
        }
      ]
    },
    {
      "cell_type": "code",
      "execution_count": null,
      "metadata": {
        "id": "EBtNjMCW4eUm",
        "colab": {
          "base_uri": "https://localhost:8080/"
        },
        "outputId": "4d7147af-a8cc-4da8-bae0-004964c2fed3"
      },
      "outputs": [
        {
          "output_type": "stream",
          "name": "stdout",
          "text": [
            "{'milk', 'salmon', 'eggs', 'bread'}\n",
            "{'apple', 'grapes'}\n",
            "{'banana', 'grapes', 'milk', 'salmon', 'bread', 'apple', 'orange', 'eggs'}\n",
            "fruits is a subset of groceries False\n",
            "refrigerator is a subset of groceries True\n",
            "favorites is a subset of groceries True\n",
            "fruits is a superset of favories True\n",
            "groceries is a superset of favories True\n",
            "refrigerator is a superset of favories False\n"
          ]
        }
      ],
      "source": [
        "groceries = {'grapes', 'milk', 'eggs', 'apple', 'salmon', 'bread'}\n",
        "fruits = set(('apple', 'orange', 'banana', 'apple', 'grapes', 'orange'))\n",
        "refrigerator = {'milk', 'salmon', 'eggs', 'grapes'}\n",
        "favorites = {'apple', 'grapes'}\n",
        "\n",
        "# check the difference between groceries and fruits\n",
        "print(groceries.difference(fruits))\n",
        "\n",
        "# check the intersection between groceries and fruits\n",
        "print(groceries.intersection(fruits))\n",
        "\n",
        "# check the union between groceries and fruits\n",
        "print(groceries.union(fruits))\n",
        "\n",
        "# check for a set that is a subset of groceries\n",
        "print(\"fruits is a subset of groceries\", fruits.issubset(groceries))\n",
        "print(\"refrigerator is a subset of groceries\", refrigerator.issubset(groceries))\n",
        "print(\"favorites is a subset of groceries\", favorites.issubset(groceries))\n",
        "\n",
        "# check for a set that is a superset of favorites\n",
        "print(\"fruits is a superset of favories\", fruits.issuperset(favorites))\n",
        "print(\"groceries is a superset of favories\", groceries.issuperset(favorites))\n",
        "print(\"refrigerator is a superset of favories\", refrigerator.issuperset(favorites))"
      ]
    },
    {
      "cell_type": "code",
      "execution_count": null,
      "metadata": {
        "id": "epY8gR-P3iCN",
        "colab": {
          "base_uri": "https://localhost:8080/"
        },
        "outputId": "47e1b38c-51e6-4b88-d041-cdd7a66d2f17"
      },
      "outputs": [
        {
          "output_type": "stream",
          "name": "stdout",
          "text": [
            "dict_keys(['eIF1', 'eRF1', 'eRF3', 'eIF3', 'eIF4', 'eIF5', 'eIF5B', 'eIF6', 'eEF1', 'eEF2'])\n",
            "dict_values(['initiation factor', 'release factor', 'release factor', 'initiation factor', 'initiation factor', 'initiation factor', 'initiation factor', 'initiation factor', 'elongation factor', 'elongation factor'])\n",
            "Num unique names 10\n",
            "Num unique descriptions 3\n"
          ]
        }
      ],
      "source": [
        "### your code goes here ###\n",
        "# .keys()\n",
        "# .values()\n",
        "print(eukaryotic_dict.keys())  # these are gene names\n",
        "print(eukaryotic_dict.values())  # these are gene descriptions\n",
        "\n",
        "unique_names_set = set(eukaryotic_dict.keys())\n",
        "unique_descr_set = set(eukaryotic_dict.values())\n",
        "\n",
        "print(\"Num unique names\", len(unique_names_set))\n",
        "print(\"Num unique descriptions\", len(unique_descr_set))"
      ]
    },
    {
      "cell_type": "code",
      "source": [
        "set(eukaryotic_dict.values())"
      ],
      "metadata": {
        "colab": {
          "base_uri": "https://localhost:8080/"
        },
        "id": "oLTpwJJePNs9",
        "outputId": "3fc3657e-9e7f-49fa-ee3a-05ef32fc8faa"
      },
      "execution_count": null,
      "outputs": [
        {
          "output_type": "execute_result",
          "data": {
            "text/plain": [
              "{'elongation factor', 'initiation factor', 'release factor'}"
            ]
          },
          "metadata": {},
          "execution_count": 105
        }
      ]
    },
    {
      "cell_type": "code",
      "source": [
        "list(eukaryotic_dict.items())\n",
        "\n",
        "for item in eukaryotic_dict.items():\n",
        "    print(\"The gene\", item[0], \"is a\", item[1])"
      ],
      "metadata": {
        "colab": {
          "base_uri": "https://localhost:8080/"
        },
        "id": "H-CnfPnbP0ju",
        "outputId": "3e9020c1-df83-49b9-b211-65431ee27e4c"
      },
      "execution_count": null,
      "outputs": [
        {
          "output_type": "stream",
          "name": "stdout",
          "text": [
            "The gene eEF1 is a elongation factor\n",
            "The gene eEF2 is a elongation factor\n",
            "The gene eIF1 is a initiation factor\n",
            "The gene eIF3 is a initiation factor\n",
            "The gene eIF4 is a initiation factor\n",
            "The gene eIF5 is a initiation factor\n",
            "The gene eIF5B is a initiation factor\n",
            "The gene eIF6 is a initiation factor\n",
            "The gene eRF1 is a release factor\n",
            "The gene eRF3 is a release factor\n"
          ]
        }
      ]
    },
    {
      "cell_type": "code",
      "execution_count": null,
      "metadata": {
        "id": "zTd5XxJWeAUm",
        "colab": {
          "base_uri": "https://localhost:8080/"
        },
        "outputId": "3e9f260b-4b3f-4e1a-8c29-a3c4419c492f"
      },
      "outputs": [
        {
          "output_type": "stream",
          "name": "stdout",
          "text": [
            "eEF1 is a elongation factor\n",
            "eEF2 is a elongation factor\n",
            "eIF1 is a initiation factor\n",
            "eIF3 is a initiation factor\n",
            "eIF4 is a initiation factor\n",
            "eIF5 is a initiation factor\n",
            "eIF5B is a initiation factor\n",
            "eIF6 is a initiation factor\n",
            "eRF1 is a release factor\n",
            "eRF3 is a release factor\n"
          ]
        }
      ],
      "source": [
        "### do not change below ###\n",
        "eukaryotic_dict = {\n",
        "    'eEF1': 'elongation factor',\n",
        "    'eEF2': 'elongation factor',\n",
        "    'eIF1': 'initiation factor',\n",
        "    'eIF3': 'initiation factor',\n",
        "    'eIF4': 'initiation factor',\n",
        "    'eIF5': 'initiation factor',\n",
        "    'eIF5B': 'initiation factor',\n",
        "    'eIF6': 'initiation factor',\n",
        "    'eRF1': 'release factor',\n",
        "    'eRF3': 'release factor'\n",
        "}\n",
        "### do not change above ###\n",
        "\n",
        "# hint:\n",
        "# .items() generates an iterable of key-value pairs in a tuple structure\n",
        "# each key-value tuple can be indexed\n",
        "\n",
        "## write your code below ###\n",
        "# First solution\n",
        "for item in eukaryotic_dict.items():\n",
        "    gene_name = item[0]\n",
        "    gene_descr = item[1]\n",
        "\n",
        "    print(gene_name, \"is a\", gene_descr)\n",
        "\n",
        "# # Second solution\n",
        "# for (gene_name, gene_descr) in eukaryotic_dict.items():\n",
        "#     print(gene_name, \"is a\", gene_descr)"
      ]
    },
    {
      "cell_type": "code",
      "execution_count": null,
      "metadata": {
        "id": "YTosoXYlSLwE",
        "colab": {
          "base_uri": "https://localhost:8080/"
        },
        "outputId": "c516042b-2b8c-4056-bcd8-fffa104db171"
      },
      "outputs": [
        {
          "output_type": "stream",
          "name": "stdout",
          "text": [
            "Reversed string: CBA\n",
            "Reversed tuple: ('C', 'B', 'A')\n"
          ]
        }
      ],
      "source": [
        "# tip: You can use the following indexing trick (`[::-1]`) to reverse a string or a list.\n",
        "\n",
        "abc_string = 'ABC'\n",
        "abc_tuple = ('A', 'B', 'C')\n",
        "\n",
        "print('Reversed string:', abc_string[::-1])\n",
        "print('Reversed tuple:', abc_tuple[::-1])"
      ]
    },
    {
      "cell_type": "code",
      "execution_count": null,
      "metadata": {
        "id": "eI0HZDqYdmal",
        "colab": {
          "base_uri": "https://localhost:8080/"
        },
        "outputId": "d8a6bb80-5a6c-4b6e-8e9c-71056febc7f4"
      },
      "outputs": [
        {
          "output_type": "stream",
          "name": "stdout",
          "text": [
            "TGAACGCGCAGCATCGTTACATGCATGCTAAATGCCT\n"
          ]
        },
        {
          "output_type": "execute_result",
          "data": {
            "text/plain": [
              "('ACTTGCGCGTCGTAGCAATGTACGTACGATTTACGGA',\n",
              " 'TGAACGCGCAGCATCGTTACATGCATGCTAAATGCCT')"
            ]
          },
          "metadata": {},
          "execution_count": 119
        }
      ],
      "source": [
        "# ATTAGC  <-- in\n",
        "# GCTAAT  --> out\n",
        "\n",
        "imaginary_seq = 'AGGCATTTAGCATGCATGTAACGATGCTGCGCGTTCA'\n",
        "\n",
        "# hints: the += operator *also* works for adding characters to strings\n",
        "\n",
        "# this dictionary contains the complement for every nucleotide\n",
        "nuc_comp_dict = {\"A\":\"T\", \"T\":\"A\", \"G\":\"C\", \"C\":\"G\"}\n",
        "\n",
        "### write your code below ###\n",
        "\n",
        "def revcomp(my_sequence):\n",
        "    # 1. Reverse the sequence\n",
        "    my_sequence = my_sequence[::-1]\n",
        "\n",
        "    # 2. Find the complement for nucleotides\n",
        "    complemented_sequence = []\n",
        "    for nuc in my_sequence:\n",
        "        nuc_comp = nuc_comp_dict[nuc]\n",
        "        complemented_sequence.append(nuc_comp)\n",
        "\n",
        "    revcomp_sequence = \"\".join(complemented_sequence)\n",
        "    print(revcomp_sequence)\n",
        "    return my_sequence, revcomp_sequence\n",
        "\n",
        "revcomp(imaginary_seq)\n"
      ]
    },
    {
      "cell_type": "code",
      "source": [
        "for nuc in \"ATTCG\":\n",
        "    print(nuc_comp_dict[nuc])\n",
        "\n",
        "# nuc_comp_dict[\"C\"]"
      ],
      "metadata": {
        "colab": {
          "base_uri": "https://localhost:8080/"
        },
        "id": "wwYbpKudRFa4",
        "outputId": "27bf92dd-ffe4-40bd-958e-f78d0143a8e7"
      },
      "execution_count": null,
      "outputs": [
        {
          "output_type": "stream",
          "name": "stdout",
          "text": [
            "T\n",
            "A\n",
            "A\n",
            "G\n",
            "C\n"
          ]
        }
      ]
    },
    {
      "cell_type": "markdown",
      "metadata": {
        "id": "Mg3NBiFvOpym"
      },
      "source": [
        "**C5**: Write a function called `p_nucleotides()` that uses the `.count()` method to count the number of nucleotides in the input sequence. The function should return a dictionary of nucleotides and their corresponding frequencies."
      ]
    },
    {
      "cell_type": "code",
      "execution_count": null,
      "metadata": {
        "id": "XuiFvCl0OqIn",
        "colab": {
          "base_uri": "https://localhost:8080/"
        },
        "outputId": "90f0ffb6-c816-4cd3-9d39-37860fe343ca"
      },
      "outputs": [
        {
          "output_type": "execute_result",
          "data": {
            "text/plain": [
              "{'A': 0.24324324324324326,\n",
              " 'T': 0.2702702702702703,\n",
              " 'G': 0.2702702702702703,\n",
              " 'C': 0.21621621621621623}"
            ]
          },
          "metadata": {},
          "execution_count": 122
        }
      ],
      "source": [
        "### write your code below ###\n",
        "\n",
        "# AAATC --> {'A': 0.6, 'T': 0.2, 'C': 0.2}\n",
        "\n",
        "def p_nucleotides(my_sequence):\n",
        "    nuc_dict = {\n",
        "        \"A\": 0,\n",
        "        \"T\": 0,\n",
        "        \"G\": 0,\n",
        "        \"C\": 0,\n",
        "    }\n",
        "\n",
        "    # first, count total occurences of each nucleotide\n",
        "    # AAATCCCGGG\n",
        "    for nuc in my_sequence:\n",
        "        # # one way\n",
        "        # if nuc == \"A\":\n",
        "        #     nuc_dict[\"A\"] += 1\n",
        "        # elif nuc == \"T\":\n",
        "        #     nuc_dict[\"T\"] += 1\n",
        "        # elif nuc == \"G\":\n",
        "        #     nuc_dict[\"G\"] += 1\n",
        "        # elif nuc == \"C\":\n",
        "        #     nuc_dict[\"C\"] += 1\n",
        "\n",
        "        # another way\n",
        "        nuc_dict[nuc] += 1\n",
        "\n",
        "    # second, convert from cout to frequency\n",
        "    nuc_dict[\"A\"] = nuc_dict[\"A\"] / len(my_sequence)\n",
        "    nuc_dict[\"T\"] = nuc_dict[\"T\"] / len(my_sequence)\n",
        "    nuc_dict[\"G\"] = nuc_dict[\"G\"] / len(my_sequence)\n",
        "    nuc_dict[\"C\"] = nuc_dict[\"C\"] / len(my_sequence)\n",
        "\n",
        "    return nuc_dict\n",
        "\n",
        "p_nucleotides(imaginary_seq)"
      ]
    },
    {
      "cell_type": "code",
      "execution_count": null,
      "metadata": {
        "id": "s03eqe9V3kcP"
      },
      "outputs": [],
      "source": [
        "jumbled_list = ['5', 9, '8.0', 15, 3.2, '0', 1]\n",
        "\n",
        "### write your code below ###\n",
        "def list_joiner(my_list):\n",
        "   ... code goes here ...\n",
        "\n",
        "list_joiner(jumbled_list)"
      ]
    },
    {
      "cell_type": "code",
      "execution_count": null,
      "metadata": {
        "id": "zPIhzUi27hWk"
      },
      "outputs": [],
      "source": [
        "nested_nums = [[8, 4, 2], [7, 21, -3], [6.8, 3, 9]]\n",
        "\n",
        "### write your code below ###\n"
      ]
    },
    {
      "cell_type": "code",
      "execution_count": null,
      "metadata": {
        "id": "X-viqEvz3LWZ"
      },
      "outputs": [],
      "source": [
        "cat_format = 'I have a {}, {} of them. Does this make me a hoarder?'\n",
        "print(\"The 'blueprint' string:\", cat_format)\n",
        "print(\"Formatted string:\", 'I have a {}, {} of them. Does this make me a hoarder?' .format('cat', 13))"
      ]
    },
    {
      "cell_type": "code",
      "execution_count": null,
      "metadata": {
        "id": "88oFqhR33O8_"
      },
      "outputs": [],
      "source": [
        "# below, we provide seven placeholder names:\n",
        "# 1) refseq\n",
        "# 2) INSDC\n",
        "# 3) size\n",
        "# 4) GC\n",
        "# 5) protein\n",
        "# 6) datatype\n",
        "# 7) name\n",
        "\n",
        "ref_format = '''Type\tName\\tRefSeq\\tINSDC\\tSize (Mb)\\tGC%\\tProtein\n",
        "{datatype}\\t{name}\\t{refseq}\\t{INSDC}\\t{size}\\t{GC}\\t{protein}'''\n",
        "\n",
        "# format the string with data for one sequence...\n",
        "print('Formatted string #1:\\n',\n",
        "      ref_format.format(refseq = 'NC_000913.3',\n",
        "                        INSDC = 'U00096.3',\n",
        "                        size = 4.64,\n",
        "                        GC = 50.8,\n",
        "                        protein = 4242,\n",
        "                        datatype = 'Chr',\n",
        "                        name = '-'))\n",
        "\n",
        "# and then do the same with data for another sequence\n",
        "print('Formatted string #2:\\n',\n",
        "      ref_format.format(datatype = 'Chr',\n",
        "                        name = '-',\n",
        "                        refseq = 'NC_003197.2',\n",
        "                        INSDC = 'AE006468.2',\n",
        "                        size = 4.86,\n",
        "                        GC = 52.2,\n",
        "                        protein = 4446))"
      ]
    },
    {
      "cell_type": "code",
      "execution_count": null,
      "metadata": {
        "id": "Mj0Kme3KX3T1"
      },
      "outputs": [],
      "source": [
        "# let's say that we want to count the length of each string in weekdays\n",
        "\n",
        "print(weekdays)\n",
        "\n",
        "weekday_len = [] # empty (container) list\n",
        "for day in weekdays:\n",
        "  weekday_len.append(len(day)) # appending updates the list in place\n",
        "\n",
        "print(weekday_len)"
      ]
    },
    {
      "cell_type": "code",
      "execution_count": null,
      "metadata": {
        "id": "2gIOqCu0ZeH_"
      },
      "outputs": [],
      "source": [
        "# now we'll use a list comprehension\n",
        "\n",
        "weekday_len = [len(day) for day in weekdays] # no need to append: just use len() directly\n",
        "\n",
        "print(weekdays)\n",
        "print(weekday_len)"
      ]
    },
    {
      "cell_type": "code",
      "execution_count": null,
      "metadata": {
        "id": "4ADcGPiuonQF"
      },
      "outputs": [],
      "source": [
        "num_list = [5, 9, 2.3, 14, 3, 2, 10]\n",
        "\n",
        "# try it out:\n",
        "# create a container list called for_squared\n",
        "# square the value of each element in num_list using a for loop, appending\n",
        "# each squared value to for_squared\n",
        "\n",
        "\n"
      ]
    },
    {
      "cell_type": "code",
      "execution_count": null,
      "metadata": {
        "id": "buXe_AZKo0AL"
      },
      "outputs": [],
      "source": [
        "# try it out:\n",
        "# use a list comprehension to square each value of num_list, saving the new\n",
        "# list to a variable called comp_squared\n",
        "\n"
      ]
    },
    {
      "cell_type": "code",
      "execution_count": null,
      "metadata": {
        "id": "LYQ75MRdVz3H"
      },
      "outputs": [],
      "source": [
        "while_string = 'this will loop until the string is only a period.'\n",
        "\n",
        "while len(while_string) > 1:\n",
        "  while_string = while_string[1:] # shortens it by one character\n",
        "  print(while_string)"
      ]
    }
  ],
  "metadata": {
    "celltoolbar": "Raw Cell Format",
    "colab": {
      "provenance": [],
      "include_colab_link": true
    },
    "kernelspec": {
      "display_name": "Python 3",
      "language": "python",
      "name": "python3"
    },
    "language_info": {
      "codemirror_mode": {
        "name": "ipython",
        "version": 3
      },
      "file_extension": ".py",
      "mimetype": "text/x-python",
      "name": "python",
      "nbconvert_exporter": "python",
      "pygments_lexer": "ipython3",
      "version": "3.12.0"
    }
  },
  "nbformat": 4,
  "nbformat_minor": 0
}